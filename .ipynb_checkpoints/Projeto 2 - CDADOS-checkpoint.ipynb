{
 "cells": [
  {
   "cell_type": "markdown",
   "metadata": {},
   "source": [
    "# Projeto 2 - Ciência dos Dados - 2020.2 "
   ]
  },
  {
   "cell_type": "markdown",
   "metadata": {},
   "source": [
    "### Previsão da demanda em lojas Walmart estadunidenses a fim de evitar o desperdício, maximizando o lucro nesses estabelecimentos"
   ]
  },
  {
   "cell_type": "markdown",
   "metadata": {},
   "source": [
    "#### Equipe: Andressa Silva de Oliveira; Camila Buzin Ladeira; Luiz Ricardo Hardman; Matheus Kwon"
   ]
  },
  {
   "cell_type": "markdown",
   "metadata": {},
   "source": [
    "## - Introdução -"
   ]
  },
  {
   "cell_type": "markdown",
   "metadata": {},
   "source": [
    "### Objetivo:\n",
    "\n",
    "A habilidade de prever dados de forma exata é extremamente valiosa em uma vasta gama de domínios como saúde, vendas, finanças, clima ou esportes (GIL, 2019). No contexto em questão, a previsão das vendas em lojas Walmart é uma técnica de gestão fundamental, a qual garante a qualidade da produção e evita perdas com estoque, logística e compras, além de servir como base para a tomada de decisões estratégicas. Dessa forma, é fundamental que tais previsões apresentem um alto nível de acurácia, uma vez que interferem diretamente nos resultados obtidos pela empresa, que se baseia nesses valores para estabelecer metas de vendas e definir uma logística funcional (BONOTTO, 2015). \n",
    "\n",
    "Objetiva-se, então, desenvolver ao longo deste documento a análise exploratória de uma base de dados acerca das vendas semanais em lojas Walmart estadunidenses, a construção de modelos preditivos baseados em técnicas de regressão e a posterior validação e comparação dos resultados obtidos. Dessa forma, espera-se chegar a um modelo que se adeque melhor à base de dados utilizada, sendo capaz de prever de forma mais precisa as demandas nesses estabelecimentos e contribuindo, então, para a otimização dos processos e maximização dos lucros. \n"
   ]
  },
  {
   "cell_type": "markdown",
   "metadata": {},
   "source": [
    "### Descrição da base de dados:\n",
    "\n",
    "A base de dados (dataset) utilizada foi obtida por meio da plataforma Kaggle, a qual disponibiliza datasets variados para uso em competições e projetos científicos, e apresenta dados semanais relativos a 45 lojas Walmart estadunidenses ao longo de um período de três anos (entre 2010 e 2012). As variáveis presentes no dataset de interesse, descritas a seguir, são: store, data, weeklysales, holiday, temperature, fuel, cpi e unemployment.\n",
    "\n",
    "**Variáveis da base de dados Walmart_Store_sales:**\n",
    "\n",
    "- **store**: representa a numeração da loja representada, 1-45;\n",
    "- **data**: variável que apresenta dia, mês e ano do dado, respectivamente, representando a semana em que as observações foram tomadas;\n",
    "- **weeklysales** : variável que apresenta a receita de cada loja semanalmente (US\\$) (variável de monitoramento);\n",
    "- **holiday**: variável que representa se a data do dado é feriado ou não (yes/no);\n",
    "- **temperature** : variável que apresenta a temperatura média da semana na região de  cada loja, em fahrenheit (°F);\n",
    "- **fuel**: preço do galão de gasolina no dia do dado (US\\$);\n",
    "- **cpi** : variável que representa o preço médio necessário para comprar um conjunto de bens de consumo e serviços num país no dia, comparando com períodos anteriores ( Índice de preços no consumidor )  (US\\$);\n",
    "- **unemployment** : variável que representa a taxa de desemprego durante a semana, na região de cada loja, de zero a um."
   ]
  },
  {
   "cell_type": "markdown",
   "metadata": {},
   "source": [
    "Ao longo da análise em questão, serão considerados como **Target** (variável resposta ou dependente), os dados correspondentes à coluna weeklysales, uma vez que objetiva-se prever valores para essa variável quantitativa; e como **Features** (variáveis explicativas ou independentes), os dados correspondentes às demais colunas da base de dados.\n",
    "\n",
    "Na primeira célula de código, que se encontra abaixo, colocou-se, para fins de organização, os comandos utilizados para importar todas as bibliotecas que foram utilizadas ao longo do desenvolvimento do documento em questão. Cada linha do código importa uma biblioteca distinta, a qual possibilita o uso de diferentes comandos de manipulação e análise de dados."
   ]
  },
  {
   "cell_type": "code",
   "execution_count": 10,
   "metadata": {},
   "outputs": [],
   "source": [
    "# Bibliotecas importadas:\n",
    "\n",
    "import os\n",
    "import random\n",
    "import pandas as pd\n",
    "import statsmodels.api as sm\n",
    "import numpy as np\n",
    "import matplotlib.pyplot as plt\n",
    "import scipy.stats as stats\n",
    "\n",
    "import statsmodels.api as sm\n",
    "import seaborn as sns\n",
    "\n",
    "from sklearn.metrics import mean_squared_error\n",
    "\n",
    "# Imports para o segundo modelo\n",
    "from sklearn.ensemble import RandomForestRegressor \n",
    "from sklearn.model_selection import train_test_split \n",
    "from sklearn.model_selection import cross_val_score, GridSearchCV"
   ]
  },
  {
   "cell_type": "markdown",
   "metadata": {},
   "source": [
    "## - Minerando Dados e Características do Dataset -"
   ]
  },
  {
   "cell_type": "markdown",
   "metadata": {},
   "source": [
    "### Mineração:"
   ]
  },
  {
   "cell_type": "markdown",
   "metadata": {},
   "source": [
    "A primeira etapa, denominada mineração, corresponde à coleta dos dados e, uma vez que todas as informações que serão utilizadas já se encontram no dataset supracitado, tendo-se já adicionado este ao repositório, utilizou-se o código abaixo a fim de garantir que o dataset está sendo reconhecido."
   ]
  },
  {
   "cell_type": "code",
   "execution_count": 11,
   "metadata": {},
   "outputs": [
    {
     "name": "stdout",
     "output_type": "stream",
     "text": [
      "Encontrei o arquivo Walmart_Store_sales.xlsx, tudo certo!\n"
     ]
    }
   ],
   "source": [
    "# Código para reconhecimento do dataset:\n",
    "filename = 'Walmart_Store_sales.xlsx'\n",
    "\n",
    "if filename in os.listdir():\n",
    "    print(f'Encontrei o arquivo {filename}, tudo certo!')\n",
    "else:\n",
    "    print(f'Não encontrei o arquivo {filename} no diretório {os.getcwd()}')"
   ]
  },
  {
   "cell_type": "markdown",
   "metadata": {},
   "source": [
    "Em seguida, armazenando a base de dados na variável “data”, plotou-se as cinco primeiras linhas, verificando-se então, o formato do dataset, no qual todos os dados estão em apenas uma coluna e separados por vírgula."
   ]
  },
  {
   "cell_type": "code",
   "execution_count": 12,
   "metadata": {},
   "outputs": [
    {
     "data": {
      "text/html": [
       "<div>\n",
       "<style scoped>\n",
       "    .dataframe tbody tr th:only-of-type {\n",
       "        vertical-align: middle;\n",
       "    }\n",
       "\n",
       "    .dataframe tbody tr th {\n",
       "        vertical-align: top;\n",
       "    }\n",
       "\n",
       "    .dataframe thead th {\n",
       "        text-align: right;\n",
       "    }\n",
       "</style>\n",
       "<table border=\"1\" class=\"dataframe\">\n",
       "  <thead>\n",
       "    <tr style=\"text-align: right;\">\n",
       "      <th></th>\n",
       "      <th>Store,Date,Weekly_Sales,Holiday_Flag,Temperature,Fuel_Price,CPI,Unemployment</th>\n",
       "    </tr>\n",
       "  </thead>\n",
       "  <tbody>\n",
       "    <tr>\n",
       "      <th>0</th>\n",
       "      <td>1,05-02-2010,1643690.9,0,42.31,2.572,211.09635...</td>\n",
       "    </tr>\n",
       "    <tr>\n",
       "      <th>1</th>\n",
       "      <td>1,12-02-2010,1641957.44,1,38.51,2.548,211.2421...</td>\n",
       "    </tr>\n",
       "    <tr>\n",
       "      <th>2</th>\n",
       "      <td>1,19-02-2010,1611968.17,0,39.93,2.514,211.2891...</td>\n",
       "    </tr>\n",
       "    <tr>\n",
       "      <th>3</th>\n",
       "      <td>1,26-02-2010,1409727.59,0,46.63,2.561,211.3196...</td>\n",
       "    </tr>\n",
       "    <tr>\n",
       "      <th>4</th>\n",
       "      <td>1,05-03-2010,1554806.68,0,46.5,2.625,211.35014...</td>\n",
       "    </tr>\n",
       "  </tbody>\n",
       "</table>\n",
       "</div>"
      ],
      "text/plain": [
       "  Store,Date,Weekly_Sales,Holiday_Flag,Temperature,Fuel_Price,CPI,Unemployment\n",
       "0  1,05-02-2010,1643690.9,0,42.31,2.572,211.09635...                          \n",
       "1  1,12-02-2010,1641957.44,1,38.51,2.548,211.2421...                          \n",
       "2  1,19-02-2010,1611968.17,0,39.93,2.514,211.2891...                          \n",
       "3  1,26-02-2010,1409727.59,0,46.63,2.561,211.3196...                          \n",
       "4  1,05-03-2010,1554806.68,0,46.5,2.625,211.35014...                          "
      ]
     },
     "execution_count": 12,
     "metadata": {},
     "output_type": "execute_result"
    }
   ],
   "source": [
    "# Código para leitura do dataset:\n",
    "data = pd.read_excel(filename)\n",
    "data.head(5)"
   ]
  },
  {
   "cell_type": "markdown",
   "metadata": {},
   "source": [
    "### Análise descritiva detalhada:"
   ]
  },
  {
   "cell_type": "markdown",
   "metadata": {},
   "source": [
    "Posteriormente, iniciou-se a etapa de limpeza e análise descritiva a fim de compreender as características e relações entre as variáveis do dataset. Para isso, no código abaixo separou-se a coluna única em forma de listas, as quais foram adicionadas como valores em um dicionário cujas chaves são os nomes de cada variável presente no dataset. "
   ]
  },
  {
   "cell_type": "code",
   "execution_count": 13,
   "metadata": {},
   "outputs": [],
   "source": [
    "# Manipulação do dataset para fins do projeto\n",
    "\n",
    "linhas = data['Store,Date,Weekly_Sales,Holiday_Flag,Temperature,Fuel_Price,CPI,Unemployment']\n",
    "\n",
    "dicio = {'store':[], 'date':[], 'weeklysales':[], 'holiday':[], 'temperature':[], 'fuel':[], 'cpi':[], 'unemployment':[]}\n",
    "\n",
    "# Separação das colunas no dicionário, em forma de listas\n",
    "\n",
    "for linha in linhas:\n",
    "    results = linha.split(',')\n",
    "    i = 0\n",
    "    for key in dicio.keys():\n",
    "        variable = results[i]\n",
    "        if key != 'date' and key != 'store':\n",
    "            variable = float(results[i])\n",
    "        dicio[key].append(variable)\n",
    "        i += 1\n"
   ]
  },
  {
   "cell_type": "markdown",
   "metadata": {},
   "source": [
    "Esse dicionário foi, então, transformado em um DataFrame, formato que possibilita o uso de comandos da biblioteca Pandas (criada e amplamente utilizada para análise e manipulação de dados diversos) e facilita a visualização dos dados. Além disso, algumas das suas variáveis foram manipuladas como comentado no código abaixo e, em seguida, plotou-se novamente as primeiras cinco linhas, verificando-se que a manipulação para organização do dataset funcionou como esperado, uma vez que cada variável de interesse passou a se localizar em uma coluna diferente."
   ]
  },
  {
   "cell_type": "code",
   "execution_count": 14,
   "metadata": {},
   "outputs": [
    {
     "data": {
      "text/html": [
       "<div>\n",
       "<style scoped>\n",
       "    .dataframe tbody tr th:only-of-type {\n",
       "        vertical-align: middle;\n",
       "    }\n",
       "\n",
       "    .dataframe tbody tr th {\n",
       "        vertical-align: top;\n",
       "    }\n",
       "\n",
       "    .dataframe thead th {\n",
       "        text-align: right;\n",
       "    }\n",
       "</style>\n",
       "<table border=\"1\" class=\"dataframe\">\n",
       "  <thead>\n",
       "    <tr style=\"text-align: right;\">\n",
       "      <th></th>\n",
       "      <th>store</th>\n",
       "      <th>date</th>\n",
       "      <th>weeklysales</th>\n",
       "      <th>holiday</th>\n",
       "      <th>temperature</th>\n",
       "      <th>fuel</th>\n",
       "      <th>cpi</th>\n",
       "      <th>unemployment</th>\n",
       "    </tr>\n",
       "  </thead>\n",
       "  <tbody>\n",
       "    <tr>\n",
       "      <th>0</th>\n",
       "      <td>1</td>\n",
       "      <td>2010-05-02</td>\n",
       "      <td>1643690.90</td>\n",
       "      <td>0</td>\n",
       "      <td>42.31</td>\n",
       "      <td>2.572</td>\n",
       "      <td>211.096358</td>\n",
       "      <td>0.08106</td>\n",
       "    </tr>\n",
       "    <tr>\n",
       "      <th>1</th>\n",
       "      <td>1</td>\n",
       "      <td>2010-12-02</td>\n",
       "      <td>1641957.44</td>\n",
       "      <td>1</td>\n",
       "      <td>38.51</td>\n",
       "      <td>2.548</td>\n",
       "      <td>211.242170</td>\n",
       "      <td>0.08106</td>\n",
       "    </tr>\n",
       "    <tr>\n",
       "      <th>2</th>\n",
       "      <td>1</td>\n",
       "      <td>2010-02-19</td>\n",
       "      <td>1611968.17</td>\n",
       "      <td>0</td>\n",
       "      <td>39.93</td>\n",
       "      <td>2.514</td>\n",
       "      <td>211.289143</td>\n",
       "      <td>0.08106</td>\n",
       "    </tr>\n",
       "    <tr>\n",
       "      <th>3</th>\n",
       "      <td>1</td>\n",
       "      <td>2010-02-26</td>\n",
       "      <td>1409727.59</td>\n",
       "      <td>0</td>\n",
       "      <td>46.63</td>\n",
       "      <td>2.561</td>\n",
       "      <td>211.319643</td>\n",
       "      <td>0.08106</td>\n",
       "    </tr>\n",
       "    <tr>\n",
       "      <th>4</th>\n",
       "      <td>1</td>\n",
       "      <td>2010-05-03</td>\n",
       "      <td>1554806.68</td>\n",
       "      <td>0</td>\n",
       "      <td>46.50</td>\n",
       "      <td>2.625</td>\n",
       "      <td>211.350143</td>\n",
       "      <td>0.08106</td>\n",
       "    </tr>\n",
       "  </tbody>\n",
       "</table>\n",
       "</div>"
      ],
      "text/plain": [
       "  store       date  weeklysales  holiday  temperature   fuel         cpi  \\\n",
       "0     1 2010-05-02   1643690.90        0        42.31  2.572  211.096358   \n",
       "1     1 2010-12-02   1641957.44        1        38.51  2.548  211.242170   \n",
       "2     1 2010-02-19   1611968.17        0        39.93  2.514  211.289143   \n",
       "3     1 2010-02-26   1409727.59        0        46.63  2.561  211.319643   \n",
       "4     1 2010-05-03   1554806.68        0        46.50  2.625  211.350143   \n",
       "\n",
       "   unemployment  \n",
       "0       0.08106  \n",
       "1       0.08106  \n",
       "2       0.08106  \n",
       "3       0.08106  \n",
       "4       0.08106  "
      ]
     },
     "execution_count": 14,
     "metadata": {},
     "output_type": "execute_result"
    }
   ],
   "source": [
    "# Transformando o dicionário em dataframe:\n",
    "\n",
    "df = pd.DataFrame()\n",
    "for key, lista in dicio.items():\n",
    "    df[key] = pd.Series(lista)\n",
    "    \n",
    "# Transformando as variáveis de acordo com o seu tipo:\n",
    "\n",
    "df.holiday = df.holiday.astype('int') # define a variável holiday como número inteiro\n",
    "df.store = df.store.astype('category') # define o número da loja como variável qualitativa ordinal\n",
    "df.date = pd.to_datetime(df.date) # define a variável para datas\n",
    "df.unemployment = (df.unemployment)/100 # taxa de desemprego(em porcentagem)/100\n",
    "df.head(5)"
   ]
  },
  {
   "cell_type": "markdown",
   "metadata": {},
   "source": [
    "* #### Análise descritiva detalhada das variáveis weeklysales, temperature, fuel, cpi, unemployment e store:"
   ]
  },
  {
   "cell_type": "markdown",
   "metadata": {},
   "source": [
    "Após a criação do DataFrame e separação das variáveis em colunas distintas, iniciou-se a análise detalhada das variáveis a fim de compreender o comportamento dessas ao longo do período a que os dados referem-se. Para isso, armazenou-se na variável \"df_analise1\" as colunas: weeklysales, temperature, fuel, cpi e unemployment do DataFrame e, utilizando-se o comando \".describe()\" obteve-se as medidas resumo de tais colunas, como pode ser visto a seguir:"
   ]
  },
  {
   "cell_type": "code",
   "execution_count": 15,
   "metadata": {},
   "outputs": [
    {
     "data": {
      "text/html": [
       "<div>\n",
       "<style scoped>\n",
       "    .dataframe tbody tr th:only-of-type {\n",
       "        vertical-align: middle;\n",
       "    }\n",
       "\n",
       "    .dataframe tbody tr th {\n",
       "        vertical-align: top;\n",
       "    }\n",
       "\n",
       "    .dataframe thead th {\n",
       "        text-align: right;\n",
       "    }\n",
       "</style>\n",
       "<table border=\"1\" class=\"dataframe\">\n",
       "  <thead>\n",
       "    <tr style=\"text-align: right;\">\n",
       "      <th></th>\n",
       "      <th>weeklysales</th>\n",
       "      <th>temperature</th>\n",
       "      <th>fuel</th>\n",
       "      <th>cpi</th>\n",
       "      <th>unemployment</th>\n",
       "    </tr>\n",
       "  </thead>\n",
       "  <tbody>\n",
       "    <tr>\n",
       "      <th>count</th>\n",
       "      <td>6.435000e+03</td>\n",
       "      <td>6435.000000</td>\n",
       "      <td>6435.000000</td>\n",
       "      <td>6435.000000</td>\n",
       "      <td>6435.000000</td>\n",
       "    </tr>\n",
       "    <tr>\n",
       "      <th>mean</th>\n",
       "      <td>1.046965e+06</td>\n",
       "      <td>60.663782</td>\n",
       "      <td>3.358607</td>\n",
       "      <td>171.578394</td>\n",
       "      <td>0.079992</td>\n",
       "    </tr>\n",
       "    <tr>\n",
       "      <th>std</th>\n",
       "      <td>5.643666e+05</td>\n",
       "      <td>18.444933</td>\n",
       "      <td>0.459020</td>\n",
       "      <td>39.356712</td>\n",
       "      <td>0.018759</td>\n",
       "    </tr>\n",
       "    <tr>\n",
       "      <th>min</th>\n",
       "      <td>2.099862e+05</td>\n",
       "      <td>-2.060000</td>\n",
       "      <td>2.472000</td>\n",
       "      <td>126.064000</td>\n",
       "      <td>0.038790</td>\n",
       "    </tr>\n",
       "    <tr>\n",
       "      <th>25%</th>\n",
       "      <td>5.533501e+05</td>\n",
       "      <td>47.460000</td>\n",
       "      <td>2.933000</td>\n",
       "      <td>131.735000</td>\n",
       "      <td>0.068910</td>\n",
       "    </tr>\n",
       "    <tr>\n",
       "      <th>50%</th>\n",
       "      <td>9.607460e+05</td>\n",
       "      <td>62.670000</td>\n",
       "      <td>3.445000</td>\n",
       "      <td>182.616521</td>\n",
       "      <td>0.078740</td>\n",
       "    </tr>\n",
       "    <tr>\n",
       "      <th>75%</th>\n",
       "      <td>1.420159e+06</td>\n",
       "      <td>74.940000</td>\n",
       "      <td>3.735000</td>\n",
       "      <td>212.743293</td>\n",
       "      <td>0.086220</td>\n",
       "    </tr>\n",
       "    <tr>\n",
       "      <th>max</th>\n",
       "      <td>3.818686e+06</td>\n",
       "      <td>100.140000</td>\n",
       "      <td>4.468000</td>\n",
       "      <td>227.232807</td>\n",
       "      <td>0.143130</td>\n",
       "    </tr>\n",
       "  </tbody>\n",
       "</table>\n",
       "</div>"
      ],
      "text/plain": [
       "        weeklysales  temperature         fuel          cpi  unemployment\n",
       "count  6.435000e+03  6435.000000  6435.000000  6435.000000   6435.000000\n",
       "mean   1.046965e+06    60.663782     3.358607   171.578394      0.079992\n",
       "std    5.643666e+05    18.444933     0.459020    39.356712      0.018759\n",
       "min    2.099862e+05    -2.060000     2.472000   126.064000      0.038790\n",
       "25%    5.533501e+05    47.460000     2.933000   131.735000      0.068910\n",
       "50%    9.607460e+05    62.670000     3.445000   182.616521      0.078740\n",
       "75%    1.420159e+06    74.940000     3.735000   212.743293      0.086220\n",
       "max    3.818686e+06   100.140000     4.468000   227.232807      0.143130"
      ]
     },
     "execution_count": 15,
     "metadata": {},
     "output_type": "execute_result"
    }
   ],
   "source": [
    "# Análise das variáveis quantitativas\n",
    "\n",
    "df_analise1 = df[['weeklysales','temperature','fuel','cpi','unemployment']]\n",
    "df_analise1.describe()"
   ]
  },
  {
   "cell_type": "markdown",
   "metadata": {},
   "source": [
    "A obtenção dos parâmetros acima permite a análise de características como a média (mean) de cada variável quantitativa, a qual ilustra o comportamento médio de cada variável levando em conta os dados de todas as lojas ao longo do período analisado, o desvio padrão (std), o qual indica o grau de variação entre os dados considerados, alguns quantis notáveis, que indicam até cada porcentagem (25%, 50% e 75%) de dados de cada coluna, em ordem crescente, o valor máximo alcançado por eles, bem como seus valores mínimos e máximos, possibilitando uma análise inicial dos valores como um todo."
   ]
  },
  {
   "cell_type": "markdown",
   "metadata": {},
   "source": [
    "Posteriormente, verificou-se se as colunas apresentavam valores indefinidos, os quais geralmente aparecem como \"Nan\" e podem representar algum erro. Para tal, utilizou-se o código abaixo, o qual percorre as colunas selecionadas anteriormente e devolve a contagem de valores indefinidos e, como pode ser visto a seguir, nenhum valor desse tipo foi encontrado."
   ]
  },
  {
   "cell_type": "code",
   "execution_count": 16,
   "metadata": {},
   "outputs": [
    {
     "data": {
      "text/plain": [
       "weeklysales     0\n",
       "temperature     0\n",
       "fuel            0\n",
       "cpi             0\n",
       "unemployment    0\n",
       "dtype: int64"
      ]
     },
     "execution_count": 16,
     "metadata": {},
     "output_type": "execute_result"
    }
   ],
   "source": [
    "# Verificando se há valores indefinidos\n",
    "\n",
    "df_analise1.isnull().sum()"
   ]
  },
  {
   "cell_type": "markdown",
   "metadata": {},
   "source": [
    "Em seguida, a fim de verificar de maneira mais global como a variável de monitoramento (weeklysales) comporta-se ao longo de todo o período analisado, plotou-se um gráfico de dispersão das vendas semanais (eixo y) ao longo do tempo (eixo x), no qual cada dado correspondente a essa variável presente no DataFrame é representado como um ponto em azul, observando-se o comportamento ilustrado a seguir:"
   ]
  },
  {
   "cell_type": "code",
   "execution_count": 17,
   "metadata": {
    "scrolled": true
   },
   "outputs": [
    {
     "data": {
      "image/png": "[encoded data removed]",
      "text/plain": [
       "<Figure size 1152x504 with 1 Axes>"
      ]
     },
     "metadata": {
      "needs_background": "light"
     },
     "output_type": "display_data"
    }
   ],
   "source": [
    "# Gráfico de dispersão das vendas semanais para todas as lojas ao longo do período 2010 a 2012\n",
    "\n",
    "plt.figure(figsize=(16, 7))\n",
    "plt.title('Gráfico de dispersão das vendas semanais')\n",
    "plt.xlabel('Anos')\n",
    "plt.ylabel('Vendas Semanais')\n",
    "plt.plot(df.date, df.weeklysales, 'o', alpha=0.3)\n",
    "plt.show()"
   ]
  },
  {
   "cell_type": "markdown",
   "metadata": {},
   "source": [
    "* A partir do gráfico acima, percebe-se que nas semanas próximas ao fim de cada ano ocorre, em geral, um aumento nas vendas semanais"
   ]
  },
  {
   "cell_type": "markdown",
   "metadata": {},
   "source": [
    "Posterioemente, visando analisar de maneira mais particular o comportamento da variável de monitoramento e de cada loja, plotou-se os três gráficos de dispersão ilustrados abaixo. Para isso, utilizou-se a lógica ilustrada na primeira parte do código que segue a fim de permitir que a escolha da loja e do ano a serem plotados seja aleatória, e, em seguida, o código para plotar e configurar os gráficos assim como feito na célula anterior."
   ]
  },
  {
   "cell_type": "code",
   "execution_count": 18,
   "metadata": {
    "scrolled": true
   },
   "outputs": [
    {
     "name": "stdout",
     "output_type": "stream",
     "text": [
      "Store 6, year 2011\n"
     ]
    },
    {
     "ename": "TypeError",
     "evalue": "float() argument must be a string or a number, not 'Timestamp'",
     "output_type": "error",
     "traceback": [
      "\u001b[1;31m---------------------------------------------------------------------------\u001b[0m",
      "\u001b[1;31mTypeError\u001b[0m                                 Traceback (most recent call last)",
      "\u001b[1;32m<ipython-input-18-564a091c3095>\u001b[0m in \u001b[0;36m<module>\u001b[1;34m\u001b[0m\n\u001b[0;32m     36\u001b[0m     \u001b[0mplt\u001b[0m\u001b[1;33m.\u001b[0m\u001b[0mylabel\u001b[0m\u001b[1;33m(\u001b[0m\u001b[1;34m'Vendas Semanais'\u001b[0m\u001b[1;33m)\u001b[0m\u001b[1;33m\u001b[0m\u001b[1;33m\u001b[0m\u001b[0m\n\u001b[0;32m     37\u001b[0m     \u001b[0mplt\u001b[0m\u001b[1;33m.\u001b[0m\u001b[0mxlabel\u001b[0m\u001b[1;33m(\u001b[0m\u001b[1;34m'Meses de {0}'\u001b[0m\u001b[1;33m.\u001b[0m\u001b[0mformat\u001b[0m\u001b[1;33m(\u001b[0m\u001b[0myear\u001b[0m\u001b[1;33m)\u001b[0m\u001b[1;33m)\u001b[0m\u001b[1;33m\u001b[0m\u001b[1;33m\u001b[0m\u001b[0m\n\u001b[1;32m---> 38\u001b[1;33m     \u001b[0mplt\u001b[0m\u001b[1;33m.\u001b[0m\u001b[0mplot\u001b[0m\u001b[1;33m(\u001b[0m\u001b[0mdatesano\u001b[0m\u001b[1;33m,\u001b[0m \u001b[0msalesyear\u001b[0m\u001b[1;33m,\u001b[0m\u001b[1;34m'o'\u001b[0m\u001b[1;33m,\u001b[0m \u001b[0malpha\u001b[0m\u001b[1;33m=\u001b[0m\u001b[1;36m0.5\u001b[0m\u001b[1;33m)\u001b[0m\u001b[1;33m\u001b[0m\u001b[1;33m\u001b[0m\u001b[0m\n\u001b[0m\u001b[0;32m     39\u001b[0m     \u001b[0mplt\u001b[0m\u001b[1;33m.\u001b[0m\u001b[0mshow\u001b[0m\u001b[1;33m(\u001b[0m\u001b[1;33m)\u001b[0m\u001b[1;33m\u001b[0m\u001b[1;33m\u001b[0m\u001b[0m\n",
      "\u001b[1;32m~\\anaconda3\\lib\\site-packages\\matplotlib\\pyplot.py\u001b[0m in \u001b[0;36mplot\u001b[1;34m(scalex, scaley, data, *args, **kwargs)\u001b[0m\n\u001b[0;32m   2794\u001b[0m     return gca().plot(\n\u001b[0;32m   2795\u001b[0m         *args, scalex=scalex, scaley=scaley, **({\"data\": data} if data\n\u001b[1;32m-> 2796\u001b[1;33m         is not None else {}), **kwargs)\n\u001b[0m\u001b[0;32m   2797\u001b[0m \u001b[1;33m\u001b[0m\u001b[0m\n\u001b[0;32m   2798\u001b[0m \u001b[1;33m\u001b[0m\u001b[0m\n",
      "\u001b[1;32m~\\anaconda3\\lib\\site-packages\\matplotlib\\axes\\_axes.py\u001b[0m in \u001b[0;36mplot\u001b[1;34m(self, scalex, scaley, data, *args, **kwargs)\u001b[0m\n\u001b[0;32m   1665\u001b[0m         \u001b[0mlines\u001b[0m \u001b[1;33m=\u001b[0m \u001b[1;33m[\u001b[0m\u001b[1;33m*\u001b[0m\u001b[0mself\u001b[0m\u001b[1;33m.\u001b[0m\u001b[0m_get_lines\u001b[0m\u001b[1;33m(\u001b[0m\u001b[1;33m*\u001b[0m\u001b[0margs\u001b[0m\u001b[1;33m,\u001b[0m \u001b[0mdata\u001b[0m\u001b[1;33m=\u001b[0m\u001b[0mdata\u001b[0m\u001b[1;33m,\u001b[0m \u001b[1;33m**\u001b[0m\u001b[0mkwargs\u001b[0m\u001b[1;33m)\u001b[0m\u001b[1;33m]\u001b[0m\u001b[1;33m\u001b[0m\u001b[1;33m\u001b[0m\u001b[0m\n\u001b[0;32m   1666\u001b[0m         \u001b[1;32mfor\u001b[0m \u001b[0mline\u001b[0m \u001b[1;32min\u001b[0m \u001b[0mlines\u001b[0m\u001b[1;33m:\u001b[0m\u001b[1;33m\u001b[0m\u001b[1;33m\u001b[0m\u001b[0m\n\u001b[1;32m-> 1667\u001b[1;33m             \u001b[0mself\u001b[0m\u001b[1;33m.\u001b[0m\u001b[0madd_line\u001b[0m\u001b[1;33m(\u001b[0m\u001b[0mline\u001b[0m\u001b[1;33m)\u001b[0m\u001b[1;33m\u001b[0m\u001b[1;33m\u001b[0m\u001b[0m\n\u001b[0m\u001b[0;32m   1668\u001b[0m         \u001b[0mself\u001b[0m\u001b[1;33m.\u001b[0m\u001b[0mautoscale_view\u001b[0m\u001b[1;33m(\u001b[0m\u001b[0mscalex\u001b[0m\u001b[1;33m=\u001b[0m\u001b[0mscalex\u001b[0m\u001b[1;33m,\u001b[0m \u001b[0mscaley\u001b[0m\u001b[1;33m=\u001b[0m\u001b[0mscaley\u001b[0m\u001b[1;33m)\u001b[0m\u001b[1;33m\u001b[0m\u001b[1;33m\u001b[0m\u001b[0m\n\u001b[0;32m   1669\u001b[0m         \u001b[1;32mreturn\u001b[0m \u001b[0mlines\u001b[0m\u001b[1;33m\u001b[0m\u001b[1;33m\u001b[0m\u001b[0m\n",
      "\u001b[1;32m~\\anaconda3\\lib\\site-packages\\matplotlib\\axes\\_base.py\u001b[0m in \u001b[0;36madd_line\u001b[1;34m(self, line)\u001b[0m\n\u001b[0;32m   1900\u001b[0m             \u001b[0mline\u001b[0m\u001b[1;33m.\u001b[0m\u001b[0mset_clip_path\u001b[0m\u001b[1;33m(\u001b[0m\u001b[0mself\u001b[0m\u001b[1;33m.\u001b[0m\u001b[0mpatch\u001b[0m\u001b[1;33m)\u001b[0m\u001b[1;33m\u001b[0m\u001b[1;33m\u001b[0m\u001b[0m\n\u001b[0;32m   1901\u001b[0m \u001b[1;33m\u001b[0m\u001b[0m\n\u001b[1;32m-> 1902\u001b[1;33m         \u001b[0mself\u001b[0m\u001b[1;33m.\u001b[0m\u001b[0m_update_line_limits\u001b[0m\u001b[1;33m(\u001b[0m\u001b[0mline\u001b[0m\u001b[1;33m)\u001b[0m\u001b[1;33m\u001b[0m\u001b[1;33m\u001b[0m\u001b[0m\n\u001b[0m\u001b[0;32m   1903\u001b[0m         \u001b[1;32mif\u001b[0m \u001b[1;32mnot\u001b[0m \u001b[0mline\u001b[0m\u001b[1;33m.\u001b[0m\u001b[0mget_label\u001b[0m\u001b[1;33m(\u001b[0m\u001b[1;33m)\u001b[0m\u001b[1;33m:\u001b[0m\u001b[1;33m\u001b[0m\u001b[1;33m\u001b[0m\u001b[0m\n\u001b[0;32m   1904\u001b[0m             \u001b[0mline\u001b[0m\u001b[1;33m.\u001b[0m\u001b[0mset_label\u001b[0m\u001b[1;33m(\u001b[0m\u001b[1;34m'_line%d'\u001b[0m \u001b[1;33m%\u001b[0m \u001b[0mlen\u001b[0m\u001b[1;33m(\u001b[0m\u001b[0mself\u001b[0m\u001b[1;33m.\u001b[0m\u001b[0mlines\u001b[0m\u001b[1;33m)\u001b[0m\u001b[1;33m)\u001b[0m\u001b[1;33m\u001b[0m\u001b[1;33m\u001b[0m\u001b[0m\n",
      "\u001b[1;32m~\\anaconda3\\lib\\site-packages\\matplotlib\\axes\\_base.py\u001b[0m in \u001b[0;36m_update_line_limits\u001b[1;34m(self, line)\u001b[0m\n\u001b[0;32m   1922\u001b[0m         \u001b[0mFigures\u001b[0m \u001b[0mout\u001b[0m \u001b[0mthe\u001b[0m \u001b[0mdata\u001b[0m \u001b[0mlimit\u001b[0m \u001b[0mof\u001b[0m \u001b[0mthe\u001b[0m \u001b[0mgiven\u001b[0m \u001b[0mline\u001b[0m\u001b[1;33m,\u001b[0m \u001b[0mupdating\u001b[0m \u001b[0mself\u001b[0m\u001b[1;33m.\u001b[0m\u001b[0mdataLim\u001b[0m\u001b[1;33m.\u001b[0m\u001b[1;33m\u001b[0m\u001b[1;33m\u001b[0m\u001b[0m\n\u001b[0;32m   1923\u001b[0m         \"\"\"\n\u001b[1;32m-> 1924\u001b[1;33m         \u001b[0mpath\u001b[0m \u001b[1;33m=\u001b[0m \u001b[0mline\u001b[0m\u001b[1;33m.\u001b[0m\u001b[0mget_path\u001b[0m\u001b[1;33m(\u001b[0m\u001b[1;33m)\u001b[0m\u001b[1;33m\u001b[0m\u001b[1;33m\u001b[0m\u001b[0m\n\u001b[0m\u001b[0;32m   1925\u001b[0m         \u001b[1;32mif\u001b[0m \u001b[0mpath\u001b[0m\u001b[1;33m.\u001b[0m\u001b[0mvertices\u001b[0m\u001b[1;33m.\u001b[0m\u001b[0msize\u001b[0m \u001b[1;33m==\u001b[0m \u001b[1;36m0\u001b[0m\u001b[1;33m:\u001b[0m\u001b[1;33m\u001b[0m\u001b[1;33m\u001b[0m\u001b[0m\n\u001b[0;32m   1926\u001b[0m             \u001b[1;32mreturn\u001b[0m\u001b[1;33m\u001b[0m\u001b[1;33m\u001b[0m\u001b[0m\n",
      "\u001b[1;32m~\\anaconda3\\lib\\site-packages\\matplotlib\\lines.py\u001b[0m in \u001b[0;36mget_path\u001b[1;34m(self)\u001b[0m\n\u001b[0;32m   1025\u001b[0m         \"\"\"\n\u001b[0;32m   1026\u001b[0m         \u001b[1;32mif\u001b[0m \u001b[0mself\u001b[0m\u001b[1;33m.\u001b[0m\u001b[0m_invalidy\u001b[0m \u001b[1;32mor\u001b[0m \u001b[0mself\u001b[0m\u001b[1;33m.\u001b[0m\u001b[0m_invalidx\u001b[0m\u001b[1;33m:\u001b[0m\u001b[1;33m\u001b[0m\u001b[1;33m\u001b[0m\u001b[0m\n\u001b[1;32m-> 1027\u001b[1;33m             \u001b[0mself\u001b[0m\u001b[1;33m.\u001b[0m\u001b[0mrecache\u001b[0m\u001b[1;33m(\u001b[0m\u001b[1;33m)\u001b[0m\u001b[1;33m\u001b[0m\u001b[1;33m\u001b[0m\u001b[0m\n\u001b[0m\u001b[0;32m   1028\u001b[0m         \u001b[1;32mreturn\u001b[0m \u001b[0mself\u001b[0m\u001b[1;33m.\u001b[0m\u001b[0m_path\u001b[0m\u001b[1;33m\u001b[0m\u001b[1;33m\u001b[0m\u001b[0m\n\u001b[0;32m   1029\u001b[0m \u001b[1;33m\u001b[0m\u001b[0m\n",
      "\u001b[1;32m~\\anaconda3\\lib\\site-packages\\matplotlib\\lines.py\u001b[0m in \u001b[0;36mrecache\u001b[1;34m(self, always)\u001b[0m\n\u001b[0;32m    668\u001b[0m         \u001b[1;32mif\u001b[0m \u001b[0malways\u001b[0m \u001b[1;32mor\u001b[0m \u001b[0mself\u001b[0m\u001b[1;33m.\u001b[0m\u001b[0m_invalidx\u001b[0m\u001b[1;33m:\u001b[0m\u001b[1;33m\u001b[0m\u001b[1;33m\u001b[0m\u001b[0m\n\u001b[0;32m    669\u001b[0m             \u001b[0mxconv\u001b[0m \u001b[1;33m=\u001b[0m \u001b[0mself\u001b[0m\u001b[1;33m.\u001b[0m\u001b[0mconvert_xunits\u001b[0m\u001b[1;33m(\u001b[0m\u001b[0mself\u001b[0m\u001b[1;33m.\u001b[0m\u001b[0m_xorig\u001b[0m\u001b[1;33m)\u001b[0m\u001b[1;33m\u001b[0m\u001b[1;33m\u001b[0m\u001b[0m\n\u001b[1;32m--> 670\u001b[1;33m             \u001b[0mx\u001b[0m \u001b[1;33m=\u001b[0m \u001b[0m_to_unmasked_float_array\u001b[0m\u001b[1;33m(\u001b[0m\u001b[0mxconv\u001b[0m\u001b[1;33m)\u001b[0m\u001b[1;33m.\u001b[0m\u001b[0mravel\u001b[0m\u001b[1;33m(\u001b[0m\u001b[1;33m)\u001b[0m\u001b[1;33m\u001b[0m\u001b[1;33m\u001b[0m\u001b[0m\n\u001b[0m\u001b[0;32m    671\u001b[0m         \u001b[1;32melse\u001b[0m\u001b[1;33m:\u001b[0m\u001b[1;33m\u001b[0m\u001b[1;33m\u001b[0m\u001b[0m\n\u001b[0;32m    672\u001b[0m             \u001b[0mx\u001b[0m \u001b[1;33m=\u001b[0m \u001b[0mself\u001b[0m\u001b[1;33m.\u001b[0m\u001b[0m_x\u001b[0m\u001b[1;33m\u001b[0m\u001b[1;33m\u001b[0m\u001b[0m\n",
      "\u001b[1;32m~\\anaconda3\\lib\\site-packages\\matplotlib\\cbook\\__init__.py\u001b[0m in \u001b[0;36m_to_unmasked_float_array\u001b[1;34m(x)\u001b[0m\n\u001b[0;32m   1388\u001b[0m         \u001b[1;32mreturn\u001b[0m \u001b[0mnp\u001b[0m\u001b[1;33m.\u001b[0m\u001b[0mma\u001b[0m\u001b[1;33m.\u001b[0m\u001b[0masarray\u001b[0m\u001b[1;33m(\u001b[0m\u001b[0mx\u001b[0m\u001b[1;33m,\u001b[0m \u001b[0mfloat\u001b[0m\u001b[1;33m)\u001b[0m\u001b[1;33m.\u001b[0m\u001b[0mfilled\u001b[0m\u001b[1;33m(\u001b[0m\u001b[0mnp\u001b[0m\u001b[1;33m.\u001b[0m\u001b[0mnan\u001b[0m\u001b[1;33m)\u001b[0m\u001b[1;33m\u001b[0m\u001b[1;33m\u001b[0m\u001b[0m\n\u001b[0;32m   1389\u001b[0m     \u001b[1;32melse\u001b[0m\u001b[1;33m:\u001b[0m\u001b[1;33m\u001b[0m\u001b[1;33m\u001b[0m\u001b[0m\n\u001b[1;32m-> 1390\u001b[1;33m         \u001b[1;32mreturn\u001b[0m \u001b[0mnp\u001b[0m\u001b[1;33m.\u001b[0m\u001b[0masarray\u001b[0m\u001b[1;33m(\u001b[0m\u001b[0mx\u001b[0m\u001b[1;33m,\u001b[0m \u001b[0mfloat\u001b[0m\u001b[1;33m)\u001b[0m\u001b[1;33m\u001b[0m\u001b[1;33m\u001b[0m\u001b[0m\n\u001b[0m\u001b[0;32m   1391\u001b[0m \u001b[1;33m\u001b[0m\u001b[0m\n\u001b[0;32m   1392\u001b[0m \u001b[1;33m\u001b[0m\u001b[0m\n",
      "\u001b[1;32m~\\anaconda3\\lib\\site-packages\\numpy\\core\\_asarray.py\u001b[0m in \u001b[0;36masarray\u001b[1;34m(a, dtype, order)\u001b[0m\n\u001b[0;32m     83\u001b[0m \u001b[1;33m\u001b[0m\u001b[0m\n\u001b[0;32m     84\u001b[0m     \"\"\"\n\u001b[1;32m---> 85\u001b[1;33m     \u001b[1;32mreturn\u001b[0m \u001b[0marray\u001b[0m\u001b[1;33m(\u001b[0m\u001b[0ma\u001b[0m\u001b[1;33m,\u001b[0m \u001b[0mdtype\u001b[0m\u001b[1;33m,\u001b[0m \u001b[0mcopy\u001b[0m\u001b[1;33m=\u001b[0m\u001b[1;32mFalse\u001b[0m\u001b[1;33m,\u001b[0m \u001b[0morder\u001b[0m\u001b[1;33m=\u001b[0m\u001b[0morder\u001b[0m\u001b[1;33m)\u001b[0m\u001b[1;33m\u001b[0m\u001b[1;33m\u001b[0m\u001b[0m\n\u001b[0m\u001b[0;32m     86\u001b[0m \u001b[1;33m\u001b[0m\u001b[0m\n\u001b[0;32m     87\u001b[0m \u001b[1;33m\u001b[0m\u001b[0m\n",
      "\u001b[1;31mTypeError\u001b[0m: float() argument must be a string or a number, not 'Timestamp'"
     ]
    },
    {
     "data": {
      "image/png": "[encoded data removed]",
      "text/plain": [
       "<Figure size 432x216 with 1 Axes>"
      ]
     },
     "metadata": {
      "needs_background": "light"
     },
     "output_type": "display_data"
    }
   ],
   "source": [
    "# Gráfico de dispersão das vendas semanais para lojas selecionadas aleatoriamente durante um ano selecionado\n",
    "# também aleatoriamente\n",
    "\n",
    "teste_lojas = []\n",
    "teste_anos = []\n",
    "for x in range(3):\n",
    "    \n",
    "    a = True # loop para não repetir loja e ano\n",
    "    while a == True:\n",
    "        n = random.randint(1,45)\n",
    "        year = random.randint(2010,2012)\n",
    "        if n not in teste_lojas and year not in teste_anos:\n",
    "            teste_lojas.append(n)\n",
    "            teste_anos.append(year)\n",
    "            a = False\n",
    "    \n",
    "    filtroano = []\n",
    "    for i in df.date:\n",
    "        if i.year == year:\n",
    "            filtroano.append(True)\n",
    "        else:\n",
    "            filtroano.append(False)\n",
    "    \n",
    "    filtrostore = df.store == str(n)\n",
    "    \n",
    "    datesano = []\n",
    "    for i in range(len(df)):\n",
    "        if df.date[i].year == year and df.store[i] == str(n):\n",
    "            datesano.append(df.date[i])\n",
    "    \n",
    "    salesyear = df.loc[filtroano & filtrostore,'weeklysales']\n",
    "    \n",
    "    print(f'Store {n}, year {year}')\n",
    "    plt.figure(figsize=(6, 3))\n",
    "    plt.title('Vendas semanais da loja {0} ao longo de {1} '.format(n,year))\n",
    "    plt.ylabel('Vendas Semanais')\n",
    "    plt.xlabel('Meses de {0}'.format(year))\n",
    "    plt.plot(datesano, salesyear,'o', alpha=0.5)\n",
    "    plt.show()"
   ]
  },
  {
   "cell_type": "markdown",
   "metadata": {},
   "source": [
    "* Assim como observado no comportamento de todas as lojas juntas, ilustrado no gráfico anterior, percebe-se para cada loja que, em geral, há um aumento nas vendas semanais no período próximo ao final do ano."
   ]
  },
  {
   "cell_type": "markdown",
   "metadata": {},
   "source": [
    "* #### Análise descritiva detalhada das variáveis weeklysale e holiday:"
   ]
  },
  {
   "cell_type": "markdown",
   "metadata": {},
   "source": [
    "Após a análise das variáveis anteriores, iniciou-se a de holiday, que fornece ao dia a característica de ser feriado ou não, o que é indicado pelos valores inteiros 1 ou 0, respectivamente. Para isso, inicialmente utilizou-se o comando abaixo para selecionar, no DataFrame, as linhas de dias que eram feriado, nomeadas como \"yes\" e as de dias que não o eram, nomeadas como \"no\", e posteriormente selecionar apenas a coluna weeklysales para cada um desses rótulos com o uso do comando \".loc[]\". Após essa seleção, plotou-se as medidas resumo para a variável weeklysales em cada situação, observando-se os resultados abaixo:"
   ]
  },
  {
   "cell_type": "code",
   "execution_count": null,
   "metadata": {},
   "outputs": [],
   "source": [
    "# Análise da relação entre as variáveis weeklysales e holiday\n",
    "\n",
    "no = df.holiday == 0\n",
    "yes = df.holiday == 1\n",
    "\n",
    "holiday_no = df.loc[no,[\"weeklysales\"]]\n",
    "holiday_yes = df.loc[yes,[\"weeklysales\"]]\n",
    "\n",
    "medidas_resumo_holiday_no = holiday_no.describe()\n",
    "medidas_resumo_holiday_yes = holiday_yes.describe()"
   ]
  },
  {
   "cell_type": "code",
   "execution_count": null,
   "metadata": {},
   "outputs": [],
   "source": [
    "# Medidas resumo para semanas sem feriado\n",
    "\n",
    "medidas_resumo_holiday_no.round(3)"
   ]
  },
  {
   "cell_type": "code",
   "execution_count": null,
   "metadata": {},
   "outputs": [],
   "source": [
    "# Medidas resumo para semanas com feriado\n",
    "\n",
    "medidas_resumo_holiday_yes.round(3)"
   ]
  },
  {
   "cell_type": "markdown",
   "metadata": {},
   "source": [
    "* Analisando-se as medidas resumo obtidas acima, percebe-se que, quando há feriado, a média das vendas semanais é maior. No entanto, nessas mesmas semanas observa-se também uma variância maior, o que significa que há lojas com vendas bem maiores que outras e também que há feriados em que as vendas são maiores do que em outros."
   ]
  },
  {
   "cell_type": "markdown",
   "metadata": {},
   "source": [
    "Plotou-se também os histogramas a seguir a fim de visualizar os valores descritos acima:"
   ]
  },
  {
   "cell_type": "code",
   "execution_count": null,
   "metadata": {
    "scrolled": true
   },
   "outputs": [],
   "source": [
    "# Análise, em histograma, das vendas semanais para semanas em que não há ou não feriado\n",
    "\n",
    "faixas = np.linspace(df.weeklysales.min(),df.weeklysales.max(),30)\n",
    "\n",
    "plt.figure(figsize=(18, 5))\n",
    "\n",
    "plt.subplot(121)\n",
    "plt.hist(holiday_no.weeklysales, bins=faixas, density=True, color='blue', edgecolor='white')\n",
    "plt.ylabel('densidade')\n",
    "plt.xlabel('weeklysales')\n",
    "plt.title('Vendas quando não há feriado')\n",
    "\n",
    "plt.subplot(122)\n",
    "plt.hist(holiday_yes.weeklysales, bins=faixas, density=True, color='red', edgecolor='white')\n",
    "plt.ylabel('densidade')\n",
    "plt.xlabel('weeklysales')\n",
    "plt.title('Vendas quando há feriado')\n",
    "\n",
    "plt.show()"
   ]
  },
  {
   "cell_type": "markdown",
   "metadata": {},
   "source": [
    "* #### Análise geral das relações entre weeklysales e as demais variáveis"
   ]
  },
  {
   "cell_type": "markdown",
   "metadata": {},
   "source": [
    "Tendo-se realizado as analises detalhadas acima, plotou-se os gráficos a seguir a fim de relacionar o target às demais features, obtendo-se os comportamentos ilustrados a seguir:"
   ]
  },
  {
   "cell_type": "code",
   "execution_count": null,
   "metadata": {
    "scrolled": true
   },
   "outputs": [],
   "source": [
    "fig = plt.figure(figsize=(15,10))\n",
    "\n",
    "# weeklysales com unemployment\n",
    "plt.subplot(221)\n",
    "plt.scatter(df.unemployment, df.weeklysales, c='red', alpha=0.1)\n",
    "plt.title('weeklysales por unemployment')\n",
    "plt.ylabel('weeklysales')\n",
    "plt.xlabel('unemployment')\n",
    "\n",
    "# weeklysales com cpi\n",
    "plt.subplot(222)\n",
    "plt.scatter(df.cpi, df.weeklysales, c='red', alpha=0.1)\n",
    "plt.title('weeklysales por cpi')\n",
    "plt.ylabel('weeklysales')\n",
    "plt.xlabel('cpi')\n",
    "\n",
    "# weeklysales com fuel\n",
    "plt.subplot(223)\n",
    "plt.scatter(df.fuel, df.weeklysales, c='red', alpha=0.1)\n",
    "plt.title('weeklysales por fuel')\n",
    "plt.ylabel('weeklysales')\n",
    "plt.xlabel('fuel')\n",
    "\n",
    "# weeklysales com temperature\n",
    "plt.subplot(224)\n",
    "plt.scatter(df.temperature, df.weeklysales, c='red', alpha=0.1)\n",
    "plt.title('weeklysales por faixas de temperatura')\n",
    "plt.ylabel('weeklysales')\n",
    "plt.xlabel('faixas de temperatura')\n",
    "\n",
    "plt.show()"
   ]
  },
  {
   "cell_type": "markdown",
   "metadata": {},
   "source": [
    "A análise desses gráficos não permite nenhuma conclusão específica, uma vez que mesmo os dados estando agrupados não há um comportamento típico de crescimento ou descrescimento que levem à conclusão de que há uma relação positiva ou negativa, respectivamente. Dessa forma, a fim de verificar se os formatos acima permitem a percepção de alguma relação não visível apenas graficamente utilizou-se os comandos abaixo para plotar os valores de correlação, que indicam pelo seu sinal se as realações entre as variáveis são positivas ou negativas; e pelo seu valor, se são fortes ou fracas."
   ]
  },
  {
   "cell_type": "code",
   "execution_count": null,
   "metadata": {},
   "outputs": [],
   "source": [
    "# Correlações referentes às variáveis ilustradas nos gráficos acima\n",
    "\n",
    "nomes = ['unemployment','cpi', 'fuel', 'temperature','holiday']\n",
    "dfs = [df.unemployment, df.cpi, df.fuel, df.temperature, df.holiday]\n",
    "for i in range(len(nomes)):\n",
    "    print('Correlação entre {0} e weeklysales é: {1}'.format(nomes[i], df.weeklysales.corr(dfs[i])))"
   ]
  },
  {
   "cell_type": "markdown",
   "metadata": {},
   "source": [
    "* As correlações mostram, então, uma baixa relação entre as features ilustradas e o target, uma vez que os valores obtidos são pequenos. Sendo assim, fez-se também uma análise de múltiplas features de forma conjunta utilizando-se o comando abaixo, o qual permite relacionar weeklysales a todas as demais variáveis de uma vez."
   ]
  },
  {
   "cell_type": "code",
   "execution_count": null,
   "metadata": {
    "scrolled": true
   },
   "outputs": [],
   "source": [
    "# Pairplot com as combinações de todas as variáveis quantitativas envolvidas\n",
    "\n",
    "sns.pairplot(df, height=1.5);"
   ]
  },
  {
   "cell_type": "markdown",
   "metadata": {},
   "source": [
    "* Percebe-se novamente, a partir dos gráficos acima, que não há nenhuma relação clara entre as variáveis, o que condiz com as análises feitas anteriormente."
   ]
  },
  {
   "cell_type": "markdown",
   "metadata": {},
   "source": [
    "## - Modelos de Predição -"
   ]
  },
  {
   "cell_type": "markdown",
   "metadata": {},
   "source": [
    "* ### Separação da base de dados em conjuntos de treinamento e teste:"
   ]
  },
  {
   "cell_type": "markdown",
   "metadata": {},
   "source": [
    "Após observar o comportamento da variável target em função das features, percebeu-se que há baixa correlação entre cada feature individualmente e as vendas semanais. Por isso, como primeiro modelo de inferência da variável de interesse, foi escolhida a regressão linear múltipla, na qual considera-se mais de uma feature para a previsão da target - função linear para cada feature.\n",
    "\n",
    "Além disso, é razoável também monitorar as vendas semanais para cada mês do ano para diferentes anos. Então, foram adicionadas as features mês e ano de cada dado como novas colunas do DataFrame.\n"
   ]
  },
  {
   "cell_type": "code",
   "execution_count": null,
   "metadata": {},
   "outputs": [],
   "source": [
    "x = df.date.dt.year\n",
    "df['year'] = pd.Series(x)\n",
    "y = df.date.dt.month\n",
    "df['month'] = pd.Series(y)\n",
    "df\n",
    "\n",
    "df.year = df.year.astype('int')\n",
    "df.month = df.month.astype('int')"
   ]
  },
  {
   "cell_type": "markdown",
   "metadata": {},
   "source": [
    "Verificou-se abaixo os tipos de variáveis da base de dados:"
   ]
  },
  {
   "cell_type": "code",
   "execution_count": null,
   "metadata": {},
   "outputs": [],
   "source": [
    "df.dtypes"
   ]
  },
  {
   "cell_type": "markdown",
   "metadata": {},
   "source": [
    "Embaralhou-se, então, todos os dados e foram selecionados os primeiros 75% para o treinamento e o restante foi deixado para teste:\n"
   ]
  },
  {
   "cell_type": "code",
   "execution_count": null,
   "metadata": {},
   "outputs": [],
   "source": [
    "df_shuffle = df.sample(frac = 1) \n",
    "df_treinamento = df_shuffle.head(int(len(df)*(0.75)+1))\n",
    "df_teste = df_shuffle.tail(int(len(df)*(0.25)))"
   ]
  },
  {
   "cell_type": "markdown",
   "metadata": {},
   "source": [
    "Posteriormente, observou-se se os dois conjuntos estão com as devidas quantidades de dados:"
   ]
  },
  {
   "cell_type": "code",
   "execution_count": null,
   "metadata": {
    "scrolled": true
   },
   "outputs": [],
   "source": [
    "df_treinamento"
   ]
  },
  {
   "cell_type": "code",
   "execution_count": null,
   "metadata": {},
   "outputs": [],
   "source": [
    "df_teste"
   ]
  },
  {
   "cell_type": "markdown",
   "metadata": {},
   "source": [
    "### 1° modelo: Modelo de Regressão Linear Múltipla"
   ]
  },
  {
   "cell_type": "markdown",
   "metadata": {},
   "source": [
    "* Hipóteses adotadas:\n",
    "\n",
    "**$α = 0,1\\%$**\n",
    "\n",
    "**H0: não há relação entre weeklysales e a variável analisada - $β = 0$** $\\Rightarrow$ probabilidades acima de $α$\n",
    "\n",
    "**H1: há relação entre weeklysales e a variável analisada - $β ≠ 0$** $\\Rightarrow$ probabilidades abaixo de $α$"
   ]
  },
  {
   "cell_type": "markdown",
   "metadata": {},
   "source": [
    "Para iniciar o modelo de regressão linear múltipla, utilizou-se como features as variáveis quantitativas de temperatura (temperature), de preço da gasolina (fuel), de índice de preços no consumidor (cpi) e de taxa de desemprego (unemployment) e as variáveis qualitativas de feriado (holiday), de ano (year) e de mês (month), que foram quantificadas em números para o modelo, além da variável target de vendas semanais (weeklysales)."
   ]
  },
  {
   "cell_type": "code",
   "execution_count": null,
   "metadata": {},
   "outputs": [],
   "source": [
    "# Regressão linear múltipla para a combinação weeklysales com holiday, temperature, fuel, cpi, unemployment, year e\n",
    "# month; todas as variáveis quantitativas.\n",
    "\n",
    "x = df_treinamento[['holiday','temperature','fuel','cpi','unemployment', 'year', 'month']]\n",
    "y = df_treinamento['weeklysales']"
   ]
  },
  {
   "cell_type": "markdown",
   "metadata": {},
   "source": [
    "Então, pelo método dos mínimos quadrados do modelo de regressão OLS, da biblioteca statsmodels, verificou-se a probabilidade de cada feature estar realmente associada à variação de weeklysales."
   ]
  },
  {
   "cell_type": "code",
   "execution_count": null,
   "metadata": {
    "scrolled": true
   },
   "outputs": [],
   "source": [
    "xc = sm.add_constant(x)\n",
    "model = sm.OLS(y,xc)\n",
    "results = model.fit()\n",
    "results.summary()"
   ]
  },
  {
   "cell_type": "markdown",
   "metadata": {},
   "source": [
    "* A probabilidade de |t| de holiday é muito maior do que o alpha adotado, o que significa que a hipótese H0 não é rejeitada e conclui-se, então, que não há relação significativa para o modelo entre weeklysales e holiday e, portanto, pode-se desconsiderar holiday na análise."
   ]
  },
  {
   "cell_type": "code",
   "execution_count": null,
   "metadata": {
    "scrolled": true
   },
   "outputs": [],
   "source": [
    "# Regressão linear múltipla para a combinação weeklysales com temperature, fuel, cpi, unemployment, year e month\n",
    "\n",
    "x = df_treinamento[['temperature','fuel','cpi','unemployment', 'year', 'month']]\n",
    "y = df_treinamento['weeklysales']\n",
    "\n",
    "xc = sm.add_constant(x)\n",
    "model = sm.OLS(y,xc)\n",
    "results = model.fit()\n",
    "results.summary()"
   ]
  },
  {
   "cell_type": "markdown",
   "metadata": {},
   "source": [
    "* A probabilidade de |t| de fuel é maior do que o alpha adotado, então, a variável também é desconsiderada da inferência."
   ]
  },
  {
   "cell_type": "code",
   "execution_count": null,
   "metadata": {
    "scrolled": true
   },
   "outputs": [],
   "source": [
    "# Regressão linear múltipla para a combinação weeklysales com temperature, cpi, unemployment, year e month\n",
    "\n",
    "x = df_treinamento[['temperature', 'cpi','unemployment', 'year', 'month']]\n",
    "y = df_treinamento['weeklysales']\n",
    "\n",
    "xc = sm.add_constant(x)\n",
    "model = sm.OLS(y,xc)\n",
    "results = model.fit()\n",
    "results.summary()"
   ]
  },
  {
   "cell_type": "markdown",
   "metadata": {},
   "source": [
    "* A probabilidade de |t| de year é maior do que o alpha adotado, então, como H0 não é rejeitado, conclui-se que não há relação significativa para o modelo entre weeklysales e year, portanto year também é desconsiderado da inferência."
   ]
  },
  {
   "cell_type": "code",
   "execution_count": null,
   "metadata": {
    "scrolled": true
   },
   "outputs": [],
   "source": [
    "# Regressão linear múltipla para a combinação weeklysales com cpi e unemployment\n",
    "\n",
    "x = df_treinamento[['temperature', 'cpi','unemployment', 'month']]\n",
    "y = df_treinamento['weeklysales']\n",
    "\n",
    "xc = sm.add_constant(x)\n",
    "model = sm.OLS(y,xc)\n",
    "results = model.fit()\n",
    "results.summary()"
   ]
  },
  {
   "cell_type": "code",
   "execution_count": null,
   "metadata": {
    "scrolled": true
   },
   "outputs": [],
   "source": [
    "# Regressão linear múltipla para a combinação weeklysales com cpi, unemployment e month\n",
    "\n",
    "x = df_treinamento[['cpi','unemployment', 'month']]\n",
    "y = df_treinamento['weeklysales']\n",
    "\n",
    "xc = sm.add_constant(x)\n",
    "model = sm.OLS(y,xc)\n",
    "results = model.fit()\n",
    "results.summary()"
   ]
  },
  {
   "cell_type": "markdown",
   "metadata": {},
   "source": [
    "Pelos resultados obtidos por esse modelo, apenas as variáveis cpi, unemployment e month foram suficientes para descrever weeklysales. Então, resta apenas verificar algumas suposições do modelo de regressão linear: \n",
    "\n",
    "1) hipótese de que a distribuição dos resíduos - diferença entre os valores reais de vendas semanais e os previstos - segue uma distribuição normal;\n",
    "\n",
    "2) hipótese de que há presença de homocedasticidade no modelo - os dados apresentam uma configuração típica com pontos não muito dispersos."
   ]
  },
  {
   "cell_type": "markdown",
   "metadata": {},
   "source": [
    "* #### Verificando as suposições do modelo de regressão linear:"
   ]
  },
  {
   "cell_type": "code",
   "execution_count": null,
   "metadata": {
    "scrolled": true
   },
   "outputs": [],
   "source": [
    "# Verificando a suposição de que os erros têm distribuição Normal\n",
    "\n",
    "stats.probplot(results.resid, dist='norm', plot=plt);"
   ]
  },
  {
   "cell_type": "code",
   "execution_count": null,
   "metadata": {
    "scrolled": true
   },
   "outputs": [],
   "source": [
    "# Verificando a suposição de homocedasticidade:\n",
    "\n",
    "fig = plt.figure(figsize = (10,5))\n",
    "\n",
    "plt.subplot(121)\n",
    "plt.scatter(results.predict(xc), results.resid, alpha=0.2);\n",
    "plt.axhline(y = 0, color = 'r', linestyle = '-');\n",
    "plt.ylabel('Resíduos')\n",
    "plt.xlabel('Valor Predito')\n",
    "\n",
    "plt.subplot(122)\n",
    "plt.scatter(y, results.resid, alpha=0.2);\n",
    "plt.axhline(y = 0, color = 'r', linestyle = '-'); # o valor da variável aleatórias está correto ?\n",
    "plt.ylabel('Resíduos')\n",
    "plt.xlabel('Variável Independente')\n",
    "\n",
    "plt.tight_layout()\n",
    "plt.show()"
   ]
  },
  {
   "cell_type": "markdown",
   "metadata": {},
   "source": [
    "* Como evidenciado nos gráficos acima, as hipóteses do modelo não são seguidas. Dessa forma, a fim de tentar ajustá-las, utilizou-se a escala logarítmica como ilustrado abaixo:"
   ]
  },
  {
   "cell_type": "code",
   "execution_count": null,
   "metadata": {},
   "outputs": [],
   "source": [
    "# Retira valores abaixo de 0\n",
    "\n",
    "filtrotemperature1 = df_treinamento.temperature > 0\n",
    "df_treinamento_log = df_treinamento.loc[filtrotemperature1,:]\n",
    "\n",
    "filtrotemperature2 = df_teste.temperature > 0\n",
    "df_teste_log = df_teste.loc[filtrotemperature2,:]"
   ]
  },
  {
   "cell_type": "code",
   "execution_count": null,
   "metadata": {
    "scrolled": true
   },
   "outputs": [],
   "source": [
    "# Alterando a escala para log\n",
    "\n",
    "df_treinamento_log.weeklysales = np.log(df_treinamento_log.weeklysales)\n",
    "df_treinamento_log.temperature = np.log(df_treinamento_log.temperature)\n",
    "df_treinamento_log.fuel = np.log(df_treinamento_log.fuel)\n",
    "df_treinamento_log.cpi = np.log(df_treinamento_log.cpi)\n",
    "df_treinamento_log.unemployment = np.log(df_treinamento_log.unemployment*100)\n",
    "df_treinamento_log.month = np.log(df_treinamento_log.month)\n",
    "df_treinamento_log.year = np.log(df_treinamento_log.year)\n",
    "df_treinamento_log"
   ]
  },
  {
   "cell_type": "code",
   "execution_count": null,
   "metadata": {},
   "outputs": [],
   "source": [
    "df_teste_log.weeklysales = np.log(df_teste_log.weeklysales)\n",
    "df_teste_log.temperature = np.log(df_teste_log.temperature)\n",
    "df_teste_log.fuel = np.log(df_teste_log.fuel)\n",
    "df_teste_log.cpi = np.log(df_teste_log.cpi)\n",
    "df_teste_log.unemployment = np.log(df_teste_log.unemployment*100)\n",
    "df_teste_log.month = np.log(df_teste_log.month)\n",
    "df_teste_log.year = np.log(df_teste_log.year)\n",
    "df_teste_log"
   ]
  },
  {
   "cell_type": "code",
   "execution_count": null,
   "metadata": {
    "scrolled": true
   },
   "outputs": [],
   "source": [
    "df_analise2 = df_treinamento_log[['weeklysales','temperature','fuel','cpi','unemployment', 'year', 'month']]\n",
    "df_analise2.describe()"
   ]
  },
  {
   "cell_type": "code",
   "execution_count": null,
   "metadata": {},
   "outputs": [],
   "source": [
    "# Verificando se há valores indefinidos\n",
    "\n",
    "df_analise2.isnull().sum()"
   ]
  },
  {
   "cell_type": "markdown",
   "metadata": {},
   "source": [
    "Refez-se, então, o modelo a partir da variáveis em escala logarítmica, como ilustrado abaixo:"
   ]
  },
  {
   "cell_type": "code",
   "execution_count": null,
   "metadata": {
    "scrolled": true
   },
   "outputs": [],
   "source": [
    "logx =  df_treinamento_log[['temperature','fuel','cpi','unemployment', 'month', 'year']]\n",
    "logy = df_treinamento_log['weeklysales']\n",
    "\n",
    "logxc = sm.add_constant(logx)\n",
    "logmodel = sm.OLS(logy,logxc)\n",
    "logresults = logmodel.fit()\n",
    "logresults.summary()"
   ]
  },
  {
   "cell_type": "markdown",
   "metadata": {},
   "source": [
    "* As variáveis fuel e year puderam ser descartadas de acordo com a mesma análise utlizada, anteriormente, para o modelo sem logarítmo."
   ]
  },
  {
   "cell_type": "code",
   "execution_count": null,
   "metadata": {
    "scrolled": true
   },
   "outputs": [],
   "source": [
    "logx =  df_treinamento_log[['temperature', 'cpi','unemployment', 'month']]\n",
    "logy = df_treinamento_log['weeklysales']\n",
    "\n",
    "logxc = sm.add_constant(logx)\n",
    "logmodel = sm.OLS(logy,logxc)\n",
    "logresults = logmodel.fit()\n",
    "logresults.summary()"
   ]
  },
  {
   "cell_type": "markdown",
   "metadata": {},
   "source": [
    "* #### Verificando as suposições do modelo de regressão linear em escala logarítmica:"
   ]
  },
  {
   "cell_type": "code",
   "execution_count": null,
   "metadata": {},
   "outputs": [],
   "source": [
    "# Verificando a suposição de que os erros têm distribuição Normal\n",
    "\n",
    "stats.probplot(logresults.resid, dist='norm', plot=plt);"
   ]
  },
  {
   "cell_type": "code",
   "execution_count": null,
   "metadata": {
    "scrolled": true
   },
   "outputs": [],
   "source": [
    "# Verificando a suposição de homocedasticidade na escala log:\n",
    "\n",
    "fig = plt.figure(figsize = (10,5))\n",
    "\n",
    "plt.subplot(121)\n",
    "plt.scatter(logresults.predict(logxc), logresults.resid, alpha=0.2);\n",
    "plt.axhline(y = 0, color = 'r', linestyle = '-');\n",
    "plt.ylabel('Resíduos')\n",
    "plt.xlabel('Valor Predito')\n",
    "\n",
    "plt.subplot(122)\n",
    "plt.scatter(logy, logresults.resid, alpha=0.2); # o valor da variável aleatórias está correto ?\n",
    "plt.axhline(y = 0, color = 'r', linestyle = '-');\n",
    "plt.ylabel('Resíduos')\n",
    "plt.xlabel('Variável Independente')\n",
    "\n",
    "plt.tight_layout()\n",
    "plt.show()"
   ]
  },
  {
   "cell_type": "markdown",
   "metadata": {},
   "source": [
    "### Modelo 2: Random Forest Regression"
   ]
  },
  {
   "cell_type": "markdown",
   "metadata": {},
   "source": [
    "Iniciou-se modelo 2 retirando do DataFrame as series das variáveis que não fossem ser utilizadas como\n",
    "feature. \n",
    "    $\\rarr$ Retirou-se, além da variável target, a serie date pois o seu tipo não condiz com o modelo. "
   ]
  },
  {
   "cell_type": "code",
   "execution_count": null,
   "metadata": {},
   "outputs": [],
   "source": [
    "\n",
    "columns = df.columns.drop(['weeklysales', 'date'])\n",
    "columns"
   ]
  },
  {
   "cell_type": "markdown",
   "metadata": {},
   "source": [
    "Então dividiu-se o dataset em treinamento e teste. Onde se tem uma quantidade dividida tanto para features quanto para teste, resultando em 4 divisões. Para realizar esse split utilizou-se o comando train_test_split, que tomou como parâmetros as features, target e a porcentagem que gostaríamos de dividir para teste ( 25 % do dataset )"
   ]
  },
  {
   "cell_type": "code",
   "execution_count": null,
   "metadata": {},
   "outputs": [],
   "source": [
    "X_train, X_test, y_train, y_test = train_test_split(df[columns],df['weeklysales'], test_size=0.25)"
   ]
  },
  {
   "cell_type": "markdown",
   "metadata": {},
   "source": [
    "Na célula seguinte foi definido o modelo que será utilizado nas predições das execuções seguintes. "
   ]
  },
  {
   "cell_type": "code",
   "execution_count": null,
   "metadata": {},
   "outputs": [],
   "source": [
    "tree_rf = RandomForestRegressor()"
   ]
  },
  {
   "cell_type": "markdown",
   "metadata": {},
   "source": [
    "Assim foi introduzido na biblioteca do modelo escolhido os dados de treinamento, antes definidos. Para que assim a biblioteca possa entender e trabalhar com os dados como random regression.\n",
    "\n",
    "E em seguida utilizando o conhecimento do modelo sobre os dados de treinamento, utilizou-se o método de predição no target de teste, para que fosse possível analisar a performance do modelo. "
   ]
  },
  {
   "cell_type": "code",
   "execution_count": null,
   "metadata": {},
   "outputs": [],
   "source": [
    "model_rf = tree_rf.fit(X_train, y_train)\n",
    "\n",
    "resultado_rf = model_rf.predict(X_test)"
   ]
  },
  {
   "cell_type": "markdown",
   "metadata": {},
   "source": [
    "Com as predições definidas calculamos a média dos erros quadráticos sob as features que foram preditas em relação as corretas. ( O erro foi computado em dollares)"
   ]
  },
  {
   "cell_type": "code",
   "execution_count": null,
   "metadata": {},
   "outputs": [],
   "source": [
    "mean_squared_error(y_test, resultado_rf)"
   ]
  },
  {
   "cell_type": "markdown",
   "metadata": {},
   "source": [
    "Posteriormente foi computado a porcentagem de acertos do modelo em relação aos testes. Percebemos que foi um valor razoável para a modelagem, mas que poderia ser melhorado. "
   ]
  },
  {
   "cell_type": "code",
   "execution_count": null,
   "metadata": {},
   "outputs": [],
   "source": [
    "model_rf.score(X_test,y_test)"
   ]
  },
  {
   "cell_type": "markdown",
   "metadata": {},
   "source": [
    "Para melhorar os resultados do modelo Random forest implementou-se hiperparâmetros ao longo dos códigos a seguir. \n",
    "\n",
    "Começou-se com a definição de um dicionário de parâmetros que tem como intuito definir de forma mais igualitária dos parâmetros ao longo das árvores de decisão. Assim foi definido um valor mínimo de amostras a ser testado no nível folha da árvore, quanto de amostra deve ir para cada árvore e quantas árvores seriam. Desse modo nenhum árvore fica sobrecarregada e as features são bem distribuidas."
   ]
  },
  {
   "cell_type": "code",
   "execution_count": null,
   "metadata": {},
   "outputs": [],
   "source": [
    "parametros = {'min_samples_leaf':[1,10],'min_samples_split':[2,10],'n_estimators':[100,250,500,750]} # parâmetros que queremos ajustar para melhorar\n",
    "\n",
    "# valores mínimos de amostras para serem testadas na folha da árvore // valores mínimos de amostras para fazer a divisão do módulo interno, ajuda em deixar o modelo mais fluido. // árvores de decisão"
   ]
  },
  {
   "cell_type": "markdown",
   "metadata": {},
   "source": [
    "Com os parâmetros definidos utilizou-se a função GridSearchCV que tem como função realizar um mutirão de testes exaustivamente, testando e retornando , a partir dos parâmetros sugeridos, os melhores parâmetros dentre os testados para serem usados na implementação do modelo para a base de dados."
   ]
  },
  {
   "cell_type": "code",
   "execution_count": null,
   "metadata": {},
   "outputs": [],
   "source": [
    "rf = RandomForestRegressor() # qual regressão vou usar \n",
    "grid = GridSearchCV(rf, parametros)"
   ]
  },
  {
   "cell_type": "markdown",
   "metadata": {},
   "source": [
    "Assim utilizou-se a função antes descreita na base de treinamento "
   ]
  },
  {
   "cell_type": "code",
   "execution_count": null,
   "metadata": {
    "scrolled": true
   },
   "outputs": [],
   "source": [
    "grid.fit(X_train, y_train)"
   ]
  },
  {
   "cell_type": "code",
   "execution_count": null,
   "metadata": {},
   "outputs": [],
   "source": [
    "grid.best_params_"
   ]
  },
  {
   "cell_type": "markdown",
   "metadata": {},
   "source": [
    "Com os melhores parâmetros decididos e com o modelo entendendo quem são, assim buscamos os melhores estimadores (variável rf_best) e buscamos assim a melhor redição que o modelo poderia retornar para a base de dados (resultado final $\\rarr$ rf_best.predict(X_test))"
   ]
  },
  {
   "cell_type": "code",
   "execution_count": null,
   "metadata": {},
   "outputs": [],
   "source": [
    "rf_best = grid.best_estimator_\n",
    "resultado_final = rf_best.predict(X_test)\n",
    "resultado_treinamento = rf_best.predict(X_train)"
   ]
  },
  {
   "cell_type": "markdown",
   "metadata": {},
   "source": [
    "Com o modelo melhorado e desenolvido buscamos qual seria a média dos erros quadráticos para as melhores predições. Mostrando uma melhora com o erro diminuindo "
   ]
  },
  {
   "cell_type": "code",
   "execution_count": null,
   "metadata": {},
   "outputs": [],
   "source": [
    "mean_squared_error(y_test, resultado_final)"
   ]
  },
  {
   "cell_type": "markdown",
   "metadata": {},
   "source": [
    "Assim também buscou-se o score para o modelo final e chegou-se a uma porcentagem de acerto do modelo melhor que a anterior, mostrando um avanço na analise. "
   ]
  },
  {
   "cell_type": "code",
   "execution_count": null,
   "metadata": {},
   "outputs": [],
   "source": [
    "rf_best.score(X_test,y_test)"
   ]
  },
  {
   "cell_type": "markdown",
   "metadata": {},
   "source": [
    "Por fim analizou-se os valores preditos para teste da variável target pelo modelo final de Random Forest Regression. "
   ]
  },
  {
   "cell_type": "code",
   "execution_count": null,
   "metadata": {
    "scrolled": true
   },
   "outputs": [],
   "source": [
    "rf_best.predict(X_test)"
   ]
  },
  {
   "cell_type": "markdown",
   "metadata": {},
   "source": [
    "## - Processo e Estatísticas de Validação -"
   ]
  },
  {
   "cell_type": "markdown",
   "metadata": {},
   "source": [
    "A fim de validar os modelos de predição, achou-se importante a análise quanto a correlação entre os dados de teste e a previsão feita pelos modelos, viabilizando a utilização da medida $R^2$. Somado à tal análise, também foi realizada uma observação no tocante ao erro, utilizando a medida RMSE (Raiz do erro quadrático médio). \n",
    "\n",
    "A medida  $R^2$ é calculada por meio da seguinte fórmula: $R^2= 1 - \\frac {Variações inexplicáveis} {Variação Total}$. Sendo assim, tem-se que esse parâmetro tem seus valores contidos em um intervalo de 0 até 1, sendo valores maiores que 0,85, representantes de uma forte correlação entre as variáveis de teste e a prevista pelo modelo. \n",
    "Já a medida RMSE, é calculada por meio da seguinte fórmula: $\\sqrt{\\frac{\\displaystyle\\sum\\cdot e^2}{n}}$,\n",
    "sendo e, o erro, n a quantidade de valores contidas na base de testes. \n",
    "\n",
    "Portanto, quanto menor é o parâmetro RMSE, melhor é para a validação do modelo.\n"
   ]
  },
  {
   "cell_type": "markdown",
   "metadata": {},
   "source": [
    "Função que calcula o $R^2$ da previsão do modelo pelos dados experimentais"
   ]
  },
  {
   "cell_type": "code",
   "execution_count": null,
   "metadata": {},
   "outputs": [],
   "source": [
    "\n",
    "def r_squared(dados, modelo):\n",
    "    numerador = 0\n",
    "    denominador = 0\n",
    "    for i in range(len(modelo)):\n",
    "        numerador += (dados[i]-modelo[i])**2\n",
    "        denominador += (dados[i]-np.mean(dados))**2\n",
    "    return 1 - numerador/denominador"
   ]
  },
  {
   "cell_type": "markdown",
   "metadata": {},
   "source": [
    "##### Validação do modelo 1: Regressão Linear Múltipla"
   ]
  },
  {
   "cell_type": "markdown",
   "metadata": {},
   "source": [
    "Função que prevê, dados os features, um valor para weeklysales"
   ]
  },
  {
   "cell_type": "code",
   "execution_count": null,
   "metadata": {},
   "outputs": [],
   "source": [
    "beta0_1 = results.params[0]\n",
    "beta1_1 = results.params[1]\n",
    "beta2_1 = results.params[2]\n",
    "beta3_1 = results.params[3]\n",
    "\n",
    "def f_modelo1(feature1, feature2, feature3):\n",
    "    return beta0_1 + beta1_1*feature1 + beta2_1*feature2 + beta3_1*feature3\n",
    "\n",
    "treinamento_1 = df_treinamento.weeklysales\n",
    "predicoes_1_t = f_modelo1(df_treinamento.cpi, df_treinamento.unemployment, df_treinamento.month)\n",
    "teste_1 = df_teste.weeklysales\n",
    "predicoes_1 = f_modelo1(df_teste.cpi, df_teste.unemployment, df_teste.month)"
   ]
  },
  {
   "cell_type": "markdown",
   "metadata": {},
   "source": [
    "Calcula-se o RMSE nesta célula abaixo"
   ]
  },
  {
   "cell_type": "code",
   "execution_count": null,
   "metadata": {},
   "outputs": [],
   "source": [
    "# RMSE no treinamento\n",
    "soma = 0\n",
    "for resid in results.resid:\n",
    "    soma += resid**2\n",
    "RMSE_modelo1_t = np.sqrt(soma/len(df_treinamento))\n",
    "print(f'RMSE do modelo 1 (treinamento): {RMSE_modelo1_t:.5f}')"
   ]
  },
  {
   "cell_type": "code",
   "execution_count": null,
   "metadata": {},
   "outputs": [],
   "source": [
    "# RMSE no teste\n",
    "residuos_1 = teste_1 - predicoes_1 #lista de residuos\n",
    "soma = 0\n",
    "for resid in residuos_1:\n",
    "    soma += resid**2\n",
    "RMSE_modelo1 = np.sqrt(soma/len(df_teste))\n",
    "print(f'RMSE do modelo 1 (teste): {RMSE_modelo1:.5f}')"
   ]
  },
  {
   "cell_type": "markdown",
   "metadata": {},
   "source": [
    "Utilizando a função de $R^2$ acima descrita, obtém-se o valor para o modelo 1"
   ]
  },
  {
   "cell_type": "code",
   "execution_count": null,
   "metadata": {},
   "outputs": [],
   "source": [
    "# r^2 entre o modelo previsto e os dados treinamento\n",
    "r_sqr_1_t = r_squared(list(treinamento_1),list(predicoes_1_t))\n",
    "print(f'r^2 do modelo 1 (treinamento): {r_sqr_1_t:.5f}')"
   ]
  },
  {
   "cell_type": "code",
   "execution_count": null,
   "metadata": {},
   "outputs": [],
   "source": [
    "# r^2 entre o modelo previsto e os dados teste\n",
    "r_sqr_1 = r_squared(list(teste_1),list(predicoes_1))\n",
    "print(f'r^2 do modelo 1 (teste): {r_sqr_1:.5f}')"
   ]
  },
  {
   "cell_type": "markdown",
   "metadata": {},
   "source": [
    " Plotou-se um gráfico, o qual mostra a venda semanal das semanas e lojas  contidas na base de testes e a venda semanal média prevista pelo modelo"
   ]
  },
  {
   "cell_type": "code",
   "execution_count": null,
   "metadata": {},
   "outputs": [],
   "source": [
    "y_teste = df_teste.weeklysales\n",
    "y_previsto = f_modelo1(df_teste.cpi, df_teste.unemployment, df_teste.month)\n",
    "x = df_teste.date\n",
    "\n",
    "plt.figure(figsize=(12,7))\n",
    "plt.title('Previsão pelo modelo 1')\n",
    "plt.scatter(x, y_teste, alpha='0.3', color='blue', label='Dados observados')\n",
    "plt.scatter(x, y_previsto, alpha='0.3', color='red', label='Modelo previsto')\n",
    "plt.xlabel('Data (ano-mês)')\n",
    "plt.ylabel('Vendas semanais (US$)')\n",
    "plt.legend()\n",
    "plt.grid(True)\n",
    "plt.show()"
   ]
  },
  {
   "cell_type": "markdown",
   "metadata": {},
   "source": [
    "Para validar o modelo 1 de regressão linear múltipla, primeiro plotou-se um gráfico, o qual mostra a venda semanal das semanas e lojas  contidas na base de testes e a venda semanal média prevista pelo modelo.\n",
    "\n",
    "\n",
    "Após isso, calculou-se o RMSE, o qual deu bastante alto, comprovando o que é visto no gráfico. Já em relação ao parâmetro R2, atestou-se também um valor bastante baixo de correlação.\n",
    "\n",
    "\n",
    "Apesar desses resultados comprovaram que o modelo 1 é bastante falho, pode-se compreender o porquê dessa discrepância. Isso acontece, pois esse mesmo modelo não foi treinado por loja e sim, considerando as features de todas as lojas. Isso retorna então um valor target médio. \n"
   ]
  },
  {
   "cell_type": "markdown",
   "metadata": {},
   "source": [
    "##### Validação do modelo 1 com escala logarítmica"
   ]
  },
  {
   "cell_type": "markdown",
   "metadata": {},
   "source": [
    "Função que prevê, dados os features, um valor para weeklysales"
   ]
  },
  {
   "cell_type": "code",
   "execution_count": null,
   "metadata": {},
   "outputs": [],
   "source": [
    "beta0_1_log = logresults.params[0]\n",
    "beta1_1_log = logresults.params[1]\n",
    "beta2_1_log = logresults.params[2]\n",
    "beta3_1_log = logresults.params[3]\n",
    "beta4_1_log = logresults.params[4]\n",
    "\n",
    "def f_modelo1_log(feature1, feature2, feature3, feature4): # função que prevê, dados os features, um valor previsto para weeklysales\n",
    "    return beta0_1_log + beta1_1_log*feature1 + beta2_1_log*feature2 + beta3_1_log*feature3 + beta4_1_log*feature4\n",
    "\n",
    "treinamento_1_log = df_treinamento_log.weeklysales\n",
    "predicoes_1_log_t = f_modelo1_log(df_treinamento_log.temperature, df_treinamento_log.cpi, df_treinamento_log.unemployment, df_treinamento_log.month)\n",
    "teste_1_log = df_teste_log.weeklysales\n",
    "predicoes_1_log = f_modelo1_log(df_teste_log.temperature, df_teste_log.cpi, df_teste_log.unemployment, df_teste_log.month)"
   ]
  },
  {
   "cell_type": "markdown",
   "metadata": {},
   "source": [
    "Calcula-se o RMSE nesta célula abaixo"
   ]
  },
  {
   "cell_type": "code",
   "execution_count": null,
   "metadata": {},
   "outputs": [],
   "source": [
    "# RMSE (log) no treinamento\n",
    "soma = 0\n",
    "for resid in logresults.resid:\n",
    "    soma += resid**2\n",
    "RMSE_modelo1_log_t = np.sqrt(soma/len(df_treinamento_log))\n",
    "print(f'RMSE do modelo 1 com escala logarítmica (treinamento): {RMSE_modelo1_log_t:.5f}')"
   ]
  },
  {
   "cell_type": "code",
   "execution_count": null,
   "metadata": {},
   "outputs": [],
   "source": [
    "# RMSE (log) no teste\n",
    "residuos_1_log = teste_1_log - predicoes_1_log #lista de residuos\n",
    "soma = 0\n",
    "for resid in residuos_1_log:\n",
    "    soma += resid**2\n",
    "RMS_modelo1_log = np.sqrt(soma/len(df_teste_log))\n",
    "print(f'RMSE do modelo 1 com escala logarítmica (teste): {RMS_modelo1_log:.5f}')"
   ]
  },
  {
   "cell_type": "markdown",
   "metadata": {},
   "source": [
    "Utilizando a função de $R^2$ acima descrita, obtém-se o valor para o modelo 1 em escala log"
   ]
  },
  {
   "cell_type": "code",
   "execution_count": null,
   "metadata": {},
   "outputs": [],
   "source": [
    "# r^2 entre o modelo previsto e os dados treinamento\n",
    "r_sqr_1_log_t = r_squared(list(treinamento_1_log),list(predicoes_1_log_t))\n",
    "print(f'r^2 do modelo 1 com escala logarítmica: {r_sqr_1_log_t:.5f}')"
   ]
  },
  {
   "cell_type": "code",
   "execution_count": null,
   "metadata": {},
   "outputs": [],
   "source": [
    "# r^2 entre o modelo previsto e os dados teste\n",
    "r_sqr_1_log = r_squared(list(teste_1_log),list(predicoes_1_log))\n",
    "print(f'r^2 do modelo 1 com escala logarítmica: {r_sqr_1_log:.5f}')"
   ]
  },
  {
   "cell_type": "markdown",
   "metadata": {},
   "source": [
    " Plota-se um gráfico, o qual mostra a venda semanal das semanas e lojas  contidas na base de testes e a venda semanal média prevista pelo modelo"
   ]
  },
  {
   "cell_type": "code",
   "execution_count": null,
   "metadata": {},
   "outputs": [],
   "source": [
    "y_teste_log = df_teste_log.weeklysales\n",
    "y_previsto_log = f_modelo1_log(df_teste_log.temperature, df_teste_log.cpi, df_teste_log.unemployment, df_teste_log.month)\n",
    "x_log = df_teste_log.date\n",
    "\n",
    "plt.figure(figsize=(12,7))\n",
    "plt.title('Previsão pelo modelo 1 com escala logarítmica')\n",
    "plt.scatter(x_log, y_teste_log, alpha='0.3', color='blue', label='Dados observados')\n",
    "plt.scatter(x_log, y_previsto_log, alpha='0.3', color='red', label='Modelo previsto')\n",
    "plt.xlabel('Data (ano-mês)')\n",
    "plt.ylabel('Vendas semanais (log(US$))')\n",
    "plt.legend()\n",
    "plt.grid(True)\n",
    "plt.show()"
   ]
  },
  {
   "cell_type": "markdown",
   "metadata": {},
   "source": [
    "Sendo assim, tendo em vista os resultados obtidos anteriormente, a fim de diminuir tal erro, colocou-se todas as features e o target em escala logarítmica.\n",
    "\n",
    "\n",
    "Obteve-se assim, um valor de RMSE bastante inferior porém, em o valor do parâmetro $R^2$, o qual já era baixo, decresceu mais ainda.\n",
    "\n",
    "\n",
    "Dessa forma, pode-se atestar de que o modelo 1 não obteve resultados de validação satisfatórios.\n"
   ]
  },
  {
   "cell_type": "markdown",
   "metadata": {},
   "source": [
    "##### Validação do modelo 2: Random Forest Regression"
   ]
  },
  {
   "cell_type": "markdown",
   "metadata": {},
   "source": [
    "Calcula-se o RMSE para o modelo 2"
   ]
  },
  {
   "cell_type": "code",
   "execution_count": null,
   "metadata": {},
   "outputs": [],
   "source": [
    "# RMSE para treinamento\n",
    "treinamento_2 = y_train\n",
    "predicoes_2_t = resultado_treinamento\n",
    "residuos_2_t = treinamento_2 - predicoes_2_t #lista de residuos\n",
    "soma = 0\n",
    "for resid in residuos_2_t:\n",
    "    soma += resid**2\n",
    "RMSE_modelo2_t = np.sqrt(soma/len(y_train))\n",
    "print(f'RMSE do modelo 2 (treinamento): {RMSE_modelo2_t:.5f}')"
   ]
  },
  {
   "cell_type": "code",
   "execution_count": null,
   "metadata": {},
   "outputs": [],
   "source": [
    "# RMSE para teste\n",
    "teste_2 = y_test\n",
    "predicoes_2 = resultado_final\n",
    "residuos_2 = teste_2 - predicoes_2 #lista de residuos\n",
    "soma = 0\n",
    "for resid in residuos_2:\n",
    "    soma += resid**2\n",
    "RMSE_modelo2 = np.sqrt(soma/len(y_test))\n",
    "print(f'RMSE do modelo 2 (teste): {RMSE_modelo2:.5f}')"
   ]
  },
  {
   "cell_type": "markdown",
   "metadata": {},
   "source": [
    "Calcula-se o $R^2$ para o modelo 2"
   ]
  },
  {
   "cell_type": "code",
   "execution_count": null,
   "metadata": {},
   "outputs": [],
   "source": [
    "# r^2 para treinamento\n",
    "r_sqr_2_t = r_squared(list(treinamento_2),list(predicoes_2_t))\n",
    "print(f'r^2 do modelo 2 (treinamento): {r_sqr_2_t:.5f}')"
   ]
  },
  {
   "cell_type": "code",
   "execution_count": null,
   "metadata": {},
   "outputs": [],
   "source": [
    "# r^2 para teste\n",
    "r_sqr_2 = r_squared(list(teste_2),list(predicoes_2))\n",
    "print(f'r^2 do modelo 2 (teste): {r_sqr_2:.5f}')"
   ]
  },
  {
   "cell_type": "markdown",
   "metadata": {},
   "source": [
    " Plota-se um gráfico, o qual mostra a venda semanal das semanas e lojas  contidas na base de testes e a venda semanal média prevista pelo modelo"
   ]
  },
  {
   "cell_type": "code",
   "execution_count": 19,
   "metadata": {},
   "outputs": [
    {
     "ename": "NameError",
     "evalue": "name 'X_test' is not defined",
     "output_type": "error",
     "traceback": [
      "\u001b[1;31m---------------------------------------------------------------------------\u001b[0m",
      "\u001b[1;31mNameError\u001b[0m                                 Traceback (most recent call last)",
      "\u001b[1;32m<ipython-input-19-b72cab7e83c7>\u001b[0m in \u001b[0;36m<module>\u001b[1;34m\u001b[0m\n\u001b[0;32m      1\u001b[0m \u001b[0mplt\u001b[0m\u001b[1;33m.\u001b[0m\u001b[0mfigure\u001b[0m\u001b[1;33m(\u001b[0m\u001b[0mfigsize\u001b[0m\u001b[1;33m=\u001b[0m\u001b[1;33m(\u001b[0m\u001b[1;36m12\u001b[0m\u001b[1;33m,\u001b[0m\u001b[1;36m7\u001b[0m\u001b[1;33m)\u001b[0m\u001b[1;33m)\u001b[0m\u001b[1;33m\u001b[0m\u001b[1;33m\u001b[0m\u001b[0m\n\u001b[0;32m      2\u001b[0m \u001b[0mplt\u001b[0m\u001b[1;33m.\u001b[0m\u001b[0mtitle\u001b[0m\u001b[1;33m(\u001b[0m\u001b[1;34m'Previsão pelo modelo 2'\u001b[0m\u001b[1;33m)\u001b[0m\u001b[1;33m\u001b[0m\u001b[1;33m\u001b[0m\u001b[0m\n\u001b[1;32m----> 3\u001b[1;33m \u001b[0mplt\u001b[0m\u001b[1;33m.\u001b[0m\u001b[0mscatter\u001b[0m\u001b[1;33m(\u001b[0m\u001b[0mX_test\u001b[0m\u001b[1;33m.\u001b[0m\u001b[0mstore\u001b[0m\u001b[1;33m,\u001b[0m \u001b[0my_test\u001b[0m\u001b[1;33m,\u001b[0m \u001b[0malpha\u001b[0m\u001b[1;33m=\u001b[0m\u001b[1;34m'0.3'\u001b[0m\u001b[1;33m,\u001b[0m \u001b[0mcolor\u001b[0m\u001b[1;33m=\u001b[0m\u001b[1;34m'blue'\u001b[0m\u001b[1;33m,\u001b[0m \u001b[0mlabel\u001b[0m\u001b[1;33m=\u001b[0m\u001b[1;34m'Dados observados'\u001b[0m\u001b[1;33m)\u001b[0m\u001b[1;33m\u001b[0m\u001b[1;33m\u001b[0m\u001b[0m\n\u001b[0m\u001b[0;32m      4\u001b[0m \u001b[0mplt\u001b[0m\u001b[1;33m.\u001b[0m\u001b[0mscatter\u001b[0m\u001b[1;33m(\u001b[0m\u001b[0mX_test\u001b[0m\u001b[1;33m.\u001b[0m\u001b[0mstore\u001b[0m\u001b[1;33m,\u001b[0m \u001b[0mresultado_final\u001b[0m\u001b[1;33m,\u001b[0m \u001b[0malpha\u001b[0m\u001b[1;33m=\u001b[0m\u001b[1;34m'0.3'\u001b[0m\u001b[1;33m,\u001b[0m \u001b[0mcolor\u001b[0m\u001b[1;33m=\u001b[0m\u001b[1;34m'red'\u001b[0m\u001b[1;33m,\u001b[0m \u001b[0mlabel\u001b[0m\u001b[1;33m=\u001b[0m\u001b[1;34m'Modelo previsto'\u001b[0m\u001b[1;33m)\u001b[0m\u001b[1;33m\u001b[0m\u001b[1;33m\u001b[0m\u001b[0m\n\u001b[0;32m      5\u001b[0m \u001b[0mplt\u001b[0m\u001b[1;33m.\u001b[0m\u001b[0mxlabel\u001b[0m\u001b[1;33m(\u001b[0m\u001b[1;34m'Número da loja'\u001b[0m\u001b[1;33m)\u001b[0m\u001b[1;33m\u001b[0m\u001b[1;33m\u001b[0m\u001b[0m\n",
      "\u001b[1;31mNameError\u001b[0m: name 'X_test' is not defined"
     ]
    },
    {
     "data": {
      "image/png": "[encoded data removed]",
      "text/plain": [
       "<Figure size 864x504 with 1 Axes>"
      ]
     },
     "metadata": {
      "needs_background": "light"
     },
     "output_type": "display_data"
    }
   ],
   "source": [
    "plt.figure(figsize=(12,7))\n",
    "plt.title('Previsão pelo modelo 2')\n",
    "plt.scatter(X_test.store, y_test, alpha='0.3', color='blue', label='Dados observados')\n",
    "plt.scatter(X_test.store, resultado_final, alpha='0.3', color='red', label='Modelo previsto')\n",
    "plt.xlabel('Número da loja')\n",
    "plt.ylabel('Vendas semanais(US$)')\n",
    "plt.legend()\n",
    "plt.grid(True);"
   ]
  },
  {
   "cell_type": "markdown",
   "metadata": {},
   "source": [
    "## - Conclusão -"
   ]
  },
  {
   "cell_type": "code",
   "execution_count": null,
   "metadata": {},
   "outputs": [],
   "source": []
  },
  {
   "cell_type": "code",
   "execution_count": null,
   "metadata": {},
   "outputs": [],
   "source": []
  },
  {
   "cell_type": "markdown",
   "metadata": {},
   "source": [
    "Portanto, já que o modelo 1 não obteve resultados satisfatórios de validação, buscou-se por um modelo que satisfizesse melhor a predição da variável target. Sendo assim, os melhores resultados foram obtidos com o uso do modelo de Random Forest Regression, o qual obteve um $R^2$ maior que 0,85 e um RMSE menor que o obtido pelo modelo de regressão linear múltipla. \n",
    "\n",
    "\n",
    "Além disso, plotou-se também um gráfico para analisar como o modelo iria prever as vendas semanais por loja.\n",
    "\n",
    "\n",
    "Deste modo, tendo em posse a análise dos parâmetros e do gráfico, pode-se concluir que esse modelo serve bem para prever a variável target, uma vez que tem-se um $R^2$ bastante alto, um RMSE razoável e analisando o gráfico de dispersão, percebe-se uma boa proximidade entre o modelo previsto e os dados observados. \n"
   ]
  },
  {
   "cell_type": "markdown",
   "metadata": {},
   "source": [
    "#### Rascunhos"
   ]
  },
  {
   "cell_type": "code",
   "execution_count": null,
   "metadata": {},
   "outputs": [],
   "source": [
    "# Se estiver utilizando um software offline, biblioteca plotly deve ser instalada com o seguinte comando no terminal:\n",
    "# pip install plotly==4.12.0\n",
    "import plotly\n",
    "import plotly.offline as py\n",
    "from plotly.offline import plot, iplot\n",
    "import plotly.graph_objs as go\n",
    "plotly.offline.init_notebook_mode(connected=True)\n",
    "\n",
    "\n",
    "# Define uma variável chamada Y que é a cópia da série de dados:\n",
    "Y = df_teste.sort_values('date').weeklysales\n",
    "\n",
    "# Define a variável window = 2 que será a janela de 2 valores:\n",
    "window = 2\n",
    "\n",
    "# Obtém os 2 primeiros valores da série:\n",
    "history = []\n",
    "for i in range(window):\n",
    "    history.append(Y.iloc[i])\n",
    "\n",
    "# Obtém todos os valores após os 2 primeiros:\n",
    "teste_j = []\n",
    "for i in range(window, len(Y)):\n",
    "    teste_j.append(Y.iloc[i])\n",
    "\n",
    "# Cria lista de predições:\n",
    "predicoes_j = []\n",
    "\n",
    "# Percorre sobre os dados de treinamento...\n",
    "\n",
    "for t in range(len(teste_j)):\n",
    "    # Define a variável length com o tamanho da variável history:\n",
    "    length = len(history)\n",
    "    \n",
    "    # Define a variável valor_predito com a média dos 2 valores correntes..\n",
    "    valor_predito = []\n",
    "    for i in range(length - window, length):\n",
    "        valor_predito.append(history[i])\n",
    "    valor_predito = np.mean(valor_predito)\n",
    "    \n",
    "    # Define a variável valor_real com o valor atual do teste..\n",
    "    valor_real = teste_k[t]\n",
    "    \n",
    "    # Alimenta a lista de predições:\n",
    "    predicoes_j.append(valor_predito)\n",
    "    # Atualiza a lista history com os valores correntes..\n",
    "    history.append(valor_real)\n",
    "    \n",
    "\n",
    "# Calcula a métrica de rms:\n",
    "rms_j = np.sqrt(mean_squared_error(teste_j, predicoes_j))\n",
    "# Imprime o valor de rms:\n",
    "print('RMS desse modelo: %.3f' % rms_j)\n",
    "\n",
    "r_sqr_j = r_squared(list(teste_j),list(predicoes_j))\n",
    "print(f'r quadrado do modelo de médias móveis: {r_sqr_j:.5f}')\n",
    "\n",
    "indices = [i for i in range(0, int(len(teste_j)))]\n",
    "teste = go.Scatter(x=indices,y=teste_j,name = \"Conjunto de teste\",line = dict(color = '#330000'),opacity = 0.8)\n",
    "MM_2 = go.Scatter(x=indices,y=predicoes_j,name = \"Média Móvel 2 Períodos\",line = dict(color = '#FF00FF'),opacity = 0.8)\n",
    "data = [teste, MM_2]\n",
    "layout = dict(title = \"Teste set vs Média Móvel 2 períodos\",title_x= 0.5)\n",
    "fig = dict(data=data, layout=layout)\n",
    "py.iplot(fig)"
   ]
  },
  {
   "cell_type": "code",
   "execution_count": null,
   "metadata": {},
   "outputs": [],
   "source": [
    "# Comparação e discussão dos resultados"
   ]
  },
  {
   "cell_type": "markdown",
   "metadata": {},
   "source": [
    "## - Conclusão -"
   ]
  },
  {
   "cell_type": "markdown",
   "metadata": {},
   "source": [
    "## - Referências Bibliográficas -"
   ]
  },
  {
   "cell_type": "markdown",
   "metadata": {},
   "source": [
    "* https://d1wqtxts1xzle7.cloudfront.net/41933645/FORECAST_OF_SALES_OF_WALMART_STORE_USING_BIG_DATA_APPLICATIONS.pdf?1454491981=&response-content-disposition=inline%3B+filename%3DFORECAST_OF_SALES_OF_WALMART_STORE_USING.pdf&Expires=1605614440&Signature=DPer3zvFl7B5EM46LJWPgYXscJNdxbzVCfa308NyoF6sU9ydieGyJ0wbXUYIkQ5l9GWfB8d1GciSQtJPGLAwgjCWJ2f5267cw~gdIlOPukMk~TeRzlDOdRlIZJ~v2u6kUL0J0AlpLZZEgLIsFtJMwgeSrdCPuXGjIH67jWaTNEJxLuPRc70jIoita-hdS7n2HF1uSmHok7tUWeJVvAhMxqT~vZ-XKuJMb8OTGCkyhwVazQJ7RpwR406ffqcOST4aDrioWlof4iW~hXYQbtWBoHg-l4pSll8jD7EnhkHm3jxqz-L2soAs4KeCxC7Vjzk6PPvnH4nmtRxKqM~imc8auw__&Key-Pair-Id=APKAJLOHF5GGSLRBV4ZA\n",
    "\n",
    "* https://www.lume.ufrgs.br/bitstream/handle/10183/147496/000999425.pdf?sequence=1\n",
    "\n",
    "* http://prcrepository.org:8080/xmlui/bitstream/handle/20.500.12475/174/FA-19_Articulo%20Final_Jose%20Santaella.pdf?sequence=1\n",
    "\n",
    "* https://www.cse.scu.edu/~mwang2/projects/ML_KaggleM5Forecasting_20s.pdf\n",
    "\n",
    "* https://medium.com/datadriveninvestor/walmart-sales-data-analysis-sales-prediction-using-multiple-linear-regression-in-r-programming-adb14afd56fb\n",
    "\n",
    "* https://medium.com/datadriveninvestor/random-forest-regression-9871bc9a25eb\n",
    "\n",
    "* https://ensinandomaquinasblog.wordpress.com/2017/12/15/modelos-preditivos-de-notas-de-redacao-do-enem-2015/\n",
    "\n",
    "* https://minerandodados.com.br/prevendo-dados-com-janelas-deslizantes-usando-python/\n",
    "\n",
    "* https://medium.com/datadriveninvestor/k-fold-cross-validation-6b8518070833\n",
    "\n",
    "* https://paulovasconcellos.com.br/como-saber-se-seu-modelo-de-machine-learning-est%C3%A1-funcionando-mesmo-a5892f6468b\n",
    "\n",
    "* https://scikit-learn.org/stable/modules/generated/sklearn.model_selection.KFold.html\n",
    "\n",
    "* https://minerandodados.com.br/prevendo-a-demanda-de-alugueis-de-bicicletas-com-machine-learning/\n",
    "\n",
    "* https://scikit-learn.org/stable/modules/generated/sklearn.tree.DecisionTreeClassifier.html\n",
    "\n",
    "* https://scikit-learn.org/stable/modules/generated/sklearn.model_selection.GridSearchCV.html \n",
    "\n",
    "* https://medium.com/swlh/random-forest-and-its-implementation-71824ced454f "
   ]
  }
 ],
 "metadata": {
  "kernelspec": {
   "display_name": "Python 3",
   "language": "python",
   "name": "python3"
  },
  "language_info": {
   "codemirror_mode": {
    "name": "ipython",
    "version": 3
   },
   "file_extension": ".py",
   "mimetype": "text/x-python",
   "name": "python",
   "nbconvert_exporter": "python",
   "pygments_lexer": "ipython3",
   "version": "3.7.6"
  }
 },
 "nbformat": 4,
 "nbformat_minor": 4
}
